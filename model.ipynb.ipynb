{
  "cells": [
    {
      "cell_type": "markdown",
      "metadata": {
        "id": "zFvfFtCz3982"
      },
      "source": [
        "# RECCOMENDATION SYSTEM"
      ]
    },
    {
      "cell_type": "markdown",
      "metadata": {
        "id": "B4Zs3MQYpGlA"
      },
      "source": [
        "# Business Objective:\n",
        "Generate the features from the dataset and use them to recommend the books accordingly to the users."
      ]
    },
    {
      "cell_type": "markdown",
      "metadata": {
        "id": "iO61-_qJ3R_o"
      },
      "source": [
        "LOADING LIBRARY"
      ]
    },
    {
      "cell_type": "code",
      "execution_count": 1,
      "metadata": {
        "id": "K3Viqkil3ETR"
      },
      "outputs": [],
      "source": [
        "#SET 1 : DATA MANIPULATION AND ANALYSIS\n",
        "import pandas as pd\n",
        "import numpy as np\n",
        "import matplotlib.pyplot as plt\n",
        "import seaborn as sns\n",
        "%matplotlib inline\n",
        "\n",
        "#SET 2 : RECOMMENDATION SYSTEM SPECIFIC\n",
        "from sklearn.feature_extraction.text import CountVectorizer\n",
        "from sklearn.metrics import pairwise_distances\n",
        "from sklearn.metrics.pairwise import cosine_similarity\n",
        "from scipy.spatial.distance import cosine, correlation, jaccard\n",
        "from PIL import Image\n",
        "\n",
        "#SET 3 : WordCloud and STOPWORDS\n",
        "from wordcloud import WordCloud,STOPWORDS"
      ]
    },
    {
      "cell_type": "code",
      "execution_count": 2,
      "metadata": {
        "id": "M3MmYsWg3VFX"
      },
      "outputs": [],
      "source": [
        "#SET 4 : MISC\n",
        "# Ignoring Warnings\n",
        "import warnings\n",
        "warnings.filterwarnings('ignore')"
      ]
    },
    {
      "cell_type": "code",
      "execution_count": 3,
      "metadata": {
        "colab": {
          "base_uri": "https://localhost:8080/"
        },
        "id": "49Z4yoIa4F5N",
        "outputId": "f1a5abdd-ff75-47c1-b08c-0f2483f79af2"
      },
      "outputs": [
        {
          "data": {
            "text/plain": [
              "\"#SET 5 : GOOGLE COLLAB SPECIFIC\\nfrom google.colab import drive\\ndrive.mount('/content/drive')\""
            ]
          },
          "execution_count": 3,
          "metadata": {},
          "output_type": "execute_result"
        }
      ],
      "source": [
        "'''#SET 5 : GOOGLE COLLAB SPECIFIC\n",
        "from google.colab import drive\n",
        "drive.mount('/content/drive')'''\n",
        "\n"
      ]
    },
    {
      "cell_type": "code",
      "execution_count": 4,
      "metadata": {
        "colab": {
          "base_uri": "https://localhost:8080/",
          "height": 434
        },
        "id": "JfVNdIhh3Xf2",
        "outputId": "056e292c-444b-4cf4-cbba-d2bdd51a0dc8"
      },
      "outputs": [
        {
          "data": {
            "text/html": [
              "<div>\n",
              "<style scoped>\n",
              "    .dataframe tbody tr th:only-of-type {\n",
              "        vertical-align: middle;\n",
              "    }\n",
              "\n",
              "    .dataframe tbody tr th {\n",
              "        vertical-align: top;\n",
              "    }\n",
              "\n",
              "    .dataframe thead th {\n",
              "        text-align: right;\n",
              "    }\n",
              "</style>\n",
              "<table border=\"1\" class=\"dataframe\">\n",
              "  <thead>\n",
              "    <tr style=\"text-align: right;\">\n",
              "      <th></th>\n",
              "      <th>ISBN</th>\n",
              "      <th>Book-Title</th>\n",
              "      <th>Book-Author</th>\n",
              "      <th>Year-Of-Publication</th>\n",
              "      <th>Publisher</th>\n",
              "      <th>Image-URL-S</th>\n",
              "      <th>Image-URL-M</th>\n",
              "      <th>Image-URL-L</th>\n",
              "    </tr>\n",
              "  </thead>\n",
              "  <tbody>\n",
              "    <tr>\n",
              "      <th>0</th>\n",
              "      <td>0195153448</td>\n",
              "      <td>Classical Mythology</td>\n",
              "      <td>Mark P. O. Morford</td>\n",
              "      <td>2002</td>\n",
              "      <td>Oxford University Press</td>\n",
              "      <td>http://images.amazon.com/images/P/0195153448.0...</td>\n",
              "      <td>http://images.amazon.com/images/P/0195153448.0...</td>\n",
              "      <td>http://images.amazon.com/images/P/0195153448.0...</td>\n",
              "    </tr>\n",
              "    <tr>\n",
              "      <th>1</th>\n",
              "      <td>0002005018</td>\n",
              "      <td>Clara Callan</td>\n",
              "      <td>Richard Bruce Wright</td>\n",
              "      <td>2001</td>\n",
              "      <td>HarperFlamingo Canada</td>\n",
              "      <td>http://images.amazon.com/images/P/0002005018.0...</td>\n",
              "      <td>http://images.amazon.com/images/P/0002005018.0...</td>\n",
              "      <td>http://images.amazon.com/images/P/0002005018.0...</td>\n",
              "    </tr>\n",
              "    <tr>\n",
              "      <th>2</th>\n",
              "      <td>0060973129</td>\n",
              "      <td>Decision in Normandy</td>\n",
              "      <td>Carlo D'Este</td>\n",
              "      <td>1991</td>\n",
              "      <td>HarperPerennial</td>\n",
              "      <td>http://images.amazon.com/images/P/0060973129.0...</td>\n",
              "      <td>http://images.amazon.com/images/P/0060973129.0...</td>\n",
              "      <td>http://images.amazon.com/images/P/0060973129.0...</td>\n",
              "    </tr>\n",
              "    <tr>\n",
              "      <th>3</th>\n",
              "      <td>0374157065</td>\n",
              "      <td>Flu: The Story of the Great Influenza Pandemic...</td>\n",
              "      <td>Gina Bari Kolata</td>\n",
              "      <td>1999</td>\n",
              "      <td>Farrar Straus Giroux</td>\n",
              "      <td>http://images.amazon.com/images/P/0374157065.0...</td>\n",
              "      <td>http://images.amazon.com/images/P/0374157065.0...</td>\n",
              "      <td>http://images.amazon.com/images/P/0374157065.0...</td>\n",
              "    </tr>\n",
              "    <tr>\n",
              "      <th>4</th>\n",
              "      <td>0393045218</td>\n",
              "      <td>The Mummies of Urumchi</td>\n",
              "      <td>E. J. W. Barber</td>\n",
              "      <td>1999</td>\n",
              "      <td>W. W. Norton &amp;amp; Company</td>\n",
              "      <td>http://images.amazon.com/images/P/0393045218.0...</td>\n",
              "      <td>http://images.amazon.com/images/P/0393045218.0...</td>\n",
              "      <td>http://images.amazon.com/images/P/0393045218.0...</td>\n",
              "    </tr>\n",
              "  </tbody>\n",
              "</table>\n",
              "</div>"
            ],
            "text/plain": [
              "         ISBN                                         Book-Title   \n",
              "0  0195153448                                Classical Mythology  \\\n",
              "1  0002005018                                       Clara Callan   \n",
              "2  0060973129                               Decision in Normandy   \n",
              "3  0374157065  Flu: The Story of the Great Influenza Pandemic...   \n",
              "4  0393045218                             The Mummies of Urumchi   \n",
              "\n",
              "            Book-Author Year-Of-Publication                   Publisher   \n",
              "0    Mark P. O. Morford                2002     Oxford University Press  \\\n",
              "1  Richard Bruce Wright                2001       HarperFlamingo Canada   \n",
              "2          Carlo D'Este                1991             HarperPerennial   \n",
              "3      Gina Bari Kolata                1999        Farrar Straus Giroux   \n",
              "4       E. J. W. Barber                1999  W. W. Norton &amp; Company   \n",
              "\n",
              "                                         Image-URL-S   \n",
              "0  http://images.amazon.com/images/P/0195153448.0...  \\\n",
              "1  http://images.amazon.com/images/P/0002005018.0...   \n",
              "2  http://images.amazon.com/images/P/0060973129.0...   \n",
              "3  http://images.amazon.com/images/P/0374157065.0...   \n",
              "4  http://images.amazon.com/images/P/0393045218.0...   \n",
              "\n",
              "                                         Image-URL-M   \n",
              "0  http://images.amazon.com/images/P/0195153448.0...  \\\n",
              "1  http://images.amazon.com/images/P/0002005018.0...   \n",
              "2  http://images.amazon.com/images/P/0060973129.0...   \n",
              "3  http://images.amazon.com/images/P/0374157065.0...   \n",
              "4  http://images.amazon.com/images/P/0393045218.0...   \n",
              "\n",
              "                                         Image-URL-L  \n",
              "0  http://images.amazon.com/images/P/0195153448.0...  \n",
              "1  http://images.amazon.com/images/P/0002005018.0...  \n",
              "2  http://images.amazon.com/images/P/0060973129.0...  \n",
              "3  http://images.amazon.com/images/P/0374157065.0...  \n",
              "4  http://images.amazon.com/images/P/0393045218.0...  "
            ]
          },
          "execution_count": 4,
          "metadata": {},
          "output_type": "execute_result"
        }
      ],
      "source": [
        "# Loading dataset\n",
        "books = pd.read_csv('Books.csv', encoding='Latin1')\n",
        "books.head()"
      ]
    },
    {
      "cell_type": "code",
      "execution_count": 5,
      "metadata": {
        "colab": {
          "base_uri": "https://localhost:8080/",
          "height": 206
        },
        "id": "P2NLue3d3x2t",
        "outputId": "aa3db8fb-63a4-487d-b18b-cfc4eed94447"
      },
      "outputs": [
        {
          "data": {
            "text/html": [
              "<div>\n",
              "<style scoped>\n",
              "    .dataframe tbody tr th:only-of-type {\n",
              "        vertical-align: middle;\n",
              "    }\n",
              "\n",
              "    .dataframe tbody tr th {\n",
              "        vertical-align: top;\n",
              "    }\n",
              "\n",
              "    .dataframe thead th {\n",
              "        text-align: right;\n",
              "    }\n",
              "</style>\n",
              "<table border=\"1\" class=\"dataframe\">\n",
              "  <thead>\n",
              "    <tr style=\"text-align: right;\">\n",
              "      <th></th>\n",
              "      <th>User-ID</th>\n",
              "      <th>ISBN</th>\n",
              "      <th>Book-Rating</th>\n",
              "    </tr>\n",
              "  </thead>\n",
              "  <tbody>\n",
              "    <tr>\n",
              "      <th>0</th>\n",
              "      <td>276725</td>\n",
              "      <td>034545104X</td>\n",
              "      <td>0</td>\n",
              "    </tr>\n",
              "    <tr>\n",
              "      <th>1</th>\n",
              "      <td>276726</td>\n",
              "      <td>0155061224</td>\n",
              "      <td>5</td>\n",
              "    </tr>\n",
              "    <tr>\n",
              "      <th>2</th>\n",
              "      <td>276727</td>\n",
              "      <td>0446520802</td>\n",
              "      <td>0</td>\n",
              "    </tr>\n",
              "    <tr>\n",
              "      <th>3</th>\n",
              "      <td>276729</td>\n",
              "      <td>052165615X</td>\n",
              "      <td>3</td>\n",
              "    </tr>\n",
              "    <tr>\n",
              "      <th>4</th>\n",
              "      <td>276729</td>\n",
              "      <td>0521795028</td>\n",
              "      <td>6</td>\n",
              "    </tr>\n",
              "  </tbody>\n",
              "</table>\n",
              "</div>"
            ],
            "text/plain": [
              "   User-ID        ISBN  Book-Rating\n",
              "0   276725  034545104X            0\n",
              "1   276726  0155061224            5\n",
              "2   276727  0446520802            0\n",
              "3   276729  052165615X            3\n",
              "4   276729  0521795028            6"
            ]
          },
          "execution_count": 5,
          "metadata": {},
          "output_type": "execute_result"
        }
      ],
      "source": [
        "ratings=pd.read_csv(\"Ratings.csv\",encoding='Latin1')\n",
        "ratings.head()"
      ]
    },
    {
      "cell_type": "code",
      "execution_count": 6,
      "metadata": {
        "colab": {
          "base_uri": "https://localhost:8080/",
          "height": 206
        },
        "id": "75HrvZNr3xD9",
        "outputId": "3189682a-a9c8-423c-b208-7f16c49a19e5"
      },
      "outputs": [
        {
          "data": {
            "text/html": [
              "<div>\n",
              "<style scoped>\n",
              "    .dataframe tbody tr th:only-of-type {\n",
              "        vertical-align: middle;\n",
              "    }\n",
              "\n",
              "    .dataframe tbody tr th {\n",
              "        vertical-align: top;\n",
              "    }\n",
              "\n",
              "    .dataframe thead th {\n",
              "        text-align: right;\n",
              "    }\n",
              "</style>\n",
              "<table border=\"1\" class=\"dataframe\">\n",
              "  <thead>\n",
              "    <tr style=\"text-align: right;\">\n",
              "      <th></th>\n",
              "      <th>User-ID</th>\n",
              "      <th>Location</th>\n",
              "      <th>Age</th>\n",
              "    </tr>\n",
              "  </thead>\n",
              "  <tbody>\n",
              "    <tr>\n",
              "      <th>0</th>\n",
              "      <td>1</td>\n",
              "      <td>nyc, new york, usa</td>\n",
              "      <td>NaN</td>\n",
              "    </tr>\n",
              "    <tr>\n",
              "      <th>1</th>\n",
              "      <td>2</td>\n",
              "      <td>stockton, california, usa</td>\n",
              "      <td>18.0</td>\n",
              "    </tr>\n",
              "    <tr>\n",
              "      <th>2</th>\n",
              "      <td>3</td>\n",
              "      <td>moscow, yukon territory, russia</td>\n",
              "      <td>NaN</td>\n",
              "    </tr>\n",
              "    <tr>\n",
              "      <th>3</th>\n",
              "      <td>4</td>\n",
              "      <td>porto, v.n.gaia, portugal</td>\n",
              "      <td>17.0</td>\n",
              "    </tr>\n",
              "    <tr>\n",
              "      <th>4</th>\n",
              "      <td>5</td>\n",
              "      <td>farnborough, hants, united kingdom</td>\n",
              "      <td>NaN</td>\n",
              "    </tr>\n",
              "  </tbody>\n",
              "</table>\n",
              "</div>"
            ],
            "text/plain": [
              "   User-ID                            Location   Age\n",
              "0        1                  nyc, new york, usa   NaN\n",
              "1        2           stockton, california, usa  18.0\n",
              "2        3     moscow, yukon territory, russia   NaN\n",
              "3        4           porto, v.n.gaia, portugal  17.0\n",
              "4        5  farnborough, hants, united kingdom   NaN"
            ]
          },
          "execution_count": 6,
          "metadata": {},
          "output_type": "execute_result"
        }
      ],
      "source": [
        "users=pd.read_csv(\"Users.csv\",encoding='Latin1')\n",
        "users.head()"
      ]
    },
    {
      "cell_type": "markdown",
      "metadata": {
        "id": "exoBbmmDZNfM"
      },
      "source": [
        "# EDA - Exploratory data analysis\n",
        "----\n",
        "- data dictionary\n",
        "- data cleaning\n",
        "- variable analysis\n",
        "- univariate analysis\n",
        "- multivariate analysis\n",
        "- correlation analysis\n",
        "- statistical analysis\n",
        "- required tranformations"
      ]
    },
    {
      "cell_type": "markdown",
      "metadata": {
        "id": "yPLan--pZUAo"
      },
      "source": [
        "DATASET 1 - BOOKS\n",
        "----"
      ]
    },
    {
      "cell_type": "markdown",
      "metadata": {
        "id": "34u0eAepZYkb"
      },
      "source": [
        "DataSet analysis\n",
        "- data size\n",
        "- data type\n",
        "- data shape"
      ]
    },
    {
      "cell_type": "code",
      "execution_count": 7,
      "metadata": {
        "colab": {
          "base_uri": "https://localhost:8080/",
          "height": 434
        },
        "id": "pglOKmSEZWHi",
        "outputId": "537c9c18-0226-419c-a5b9-29d1e8900de2"
      },
      "outputs": [
        {
          "data": {
            "text/html": [
              "<div>\n",
              "<style scoped>\n",
              "    .dataframe tbody tr th:only-of-type {\n",
              "        vertical-align: middle;\n",
              "    }\n",
              "\n",
              "    .dataframe tbody tr th {\n",
              "        vertical-align: top;\n",
              "    }\n",
              "\n",
              "    .dataframe thead th {\n",
              "        text-align: right;\n",
              "    }\n",
              "</style>\n",
              "<table border=\"1\" class=\"dataframe\">\n",
              "  <thead>\n",
              "    <tr style=\"text-align: right;\">\n",
              "      <th></th>\n",
              "      <th>ISBN</th>\n",
              "      <th>Book-Title</th>\n",
              "      <th>Book-Author</th>\n",
              "      <th>Year-Of-Publication</th>\n",
              "      <th>Publisher</th>\n",
              "      <th>Image-URL-S</th>\n",
              "      <th>Image-URL-M</th>\n",
              "      <th>Image-URL-L</th>\n",
              "    </tr>\n",
              "  </thead>\n",
              "  <tbody>\n",
              "    <tr>\n",
              "      <th>0</th>\n",
              "      <td>0195153448</td>\n",
              "      <td>Classical Mythology</td>\n",
              "      <td>Mark P. O. Morford</td>\n",
              "      <td>2002</td>\n",
              "      <td>Oxford University Press</td>\n",
              "      <td>http://images.amazon.com/images/P/0195153448.0...</td>\n",
              "      <td>http://images.amazon.com/images/P/0195153448.0...</td>\n",
              "      <td>http://images.amazon.com/images/P/0195153448.0...</td>\n",
              "    </tr>\n",
              "    <tr>\n",
              "      <th>1</th>\n",
              "      <td>0002005018</td>\n",
              "      <td>Clara Callan</td>\n",
              "      <td>Richard Bruce Wright</td>\n",
              "      <td>2001</td>\n",
              "      <td>HarperFlamingo Canada</td>\n",
              "      <td>http://images.amazon.com/images/P/0002005018.0...</td>\n",
              "      <td>http://images.amazon.com/images/P/0002005018.0...</td>\n",
              "      <td>http://images.amazon.com/images/P/0002005018.0...</td>\n",
              "    </tr>\n",
              "    <tr>\n",
              "      <th>2</th>\n",
              "      <td>0060973129</td>\n",
              "      <td>Decision in Normandy</td>\n",
              "      <td>Carlo D'Este</td>\n",
              "      <td>1991</td>\n",
              "      <td>HarperPerennial</td>\n",
              "      <td>http://images.amazon.com/images/P/0060973129.0...</td>\n",
              "      <td>http://images.amazon.com/images/P/0060973129.0...</td>\n",
              "      <td>http://images.amazon.com/images/P/0060973129.0...</td>\n",
              "    </tr>\n",
              "    <tr>\n",
              "      <th>3</th>\n",
              "      <td>0374157065</td>\n",
              "      <td>Flu: The Story of the Great Influenza Pandemic...</td>\n",
              "      <td>Gina Bari Kolata</td>\n",
              "      <td>1999</td>\n",
              "      <td>Farrar Straus Giroux</td>\n",
              "      <td>http://images.amazon.com/images/P/0374157065.0...</td>\n",
              "      <td>http://images.amazon.com/images/P/0374157065.0...</td>\n",
              "      <td>http://images.amazon.com/images/P/0374157065.0...</td>\n",
              "    </tr>\n",
              "    <tr>\n",
              "      <th>4</th>\n",
              "      <td>0393045218</td>\n",
              "      <td>The Mummies of Urumchi</td>\n",
              "      <td>E. J. W. Barber</td>\n",
              "      <td>1999</td>\n",
              "      <td>W. W. Norton &amp;amp; Company</td>\n",
              "      <td>http://images.amazon.com/images/P/0393045218.0...</td>\n",
              "      <td>http://images.amazon.com/images/P/0393045218.0...</td>\n",
              "      <td>http://images.amazon.com/images/P/0393045218.0...</td>\n",
              "    </tr>\n",
              "  </tbody>\n",
              "</table>\n",
              "</div>"
            ],
            "text/plain": [
              "         ISBN                                         Book-Title   \n",
              "0  0195153448                                Classical Mythology  \\\n",
              "1  0002005018                                       Clara Callan   \n",
              "2  0060973129                               Decision in Normandy   \n",
              "3  0374157065  Flu: The Story of the Great Influenza Pandemic...   \n",
              "4  0393045218                             The Mummies of Urumchi   \n",
              "\n",
              "            Book-Author Year-Of-Publication                   Publisher   \n",
              "0    Mark P. O. Morford                2002     Oxford University Press  \\\n",
              "1  Richard Bruce Wright                2001       HarperFlamingo Canada   \n",
              "2          Carlo D'Este                1991             HarperPerennial   \n",
              "3      Gina Bari Kolata                1999        Farrar Straus Giroux   \n",
              "4       E. J. W. Barber                1999  W. W. Norton &amp; Company   \n",
              "\n",
              "                                         Image-URL-S   \n",
              "0  http://images.amazon.com/images/P/0195153448.0...  \\\n",
              "1  http://images.amazon.com/images/P/0002005018.0...   \n",
              "2  http://images.amazon.com/images/P/0060973129.0...   \n",
              "3  http://images.amazon.com/images/P/0374157065.0...   \n",
              "4  http://images.amazon.com/images/P/0393045218.0...   \n",
              "\n",
              "                                         Image-URL-M   \n",
              "0  http://images.amazon.com/images/P/0195153448.0...  \\\n",
              "1  http://images.amazon.com/images/P/0002005018.0...   \n",
              "2  http://images.amazon.com/images/P/0060973129.0...   \n",
              "3  http://images.amazon.com/images/P/0374157065.0...   \n",
              "4  http://images.amazon.com/images/P/0393045218.0...   \n",
              "\n",
              "                                         Image-URL-L  \n",
              "0  http://images.amazon.com/images/P/0195153448.0...  \n",
              "1  http://images.amazon.com/images/P/0002005018.0...  \n",
              "2  http://images.amazon.com/images/P/0060973129.0...  \n",
              "3  http://images.amazon.com/images/P/0374157065.0...  \n",
              "4  http://images.amazon.com/images/P/0393045218.0...  "
            ]
          },
          "execution_count": 7,
          "metadata": {},
          "output_type": "execute_result"
        }
      ],
      "source": [
        "books.head()"
      ]
    },
    {
      "cell_type": "code",
      "execution_count": 8,
      "metadata": {
        "colab": {
          "base_uri": "https://localhost:8080/"
        },
        "id": "qJ-8MokRZMuG",
        "outputId": "6fcda01a-8821-41de-a307-b315ee3d24d2"
      },
      "outputs": [
        {
          "data": {
            "text/plain": [
              "(271360, 8)"
            ]
          },
          "execution_count": 8,
          "metadata": {},
          "output_type": "execute_result"
        }
      ],
      "source": [
        "books.shape"
      ]
    },
    {
      "cell_type": "code",
      "execution_count": 9,
      "metadata": {
        "colab": {
          "base_uri": "https://localhost:8080/"
        },
        "id": "9rjhjrnFZeLw",
        "outputId": "54053f99-6eaf-48d0-c082-b0fe1e393257"
      },
      "outputs": [
        {
          "data": {
            "text/plain": [
              "Index(['ISBN', 'Book-Title', 'Book-Author', 'Year-Of-Publication', 'Publisher',\n",
              "       'Image-URL-S', 'Image-URL-M', 'Image-URL-L'],\n",
              "      dtype='object')"
            ]
          },
          "execution_count": 9,
          "metadata": {},
          "output_type": "execute_result"
        }
      ],
      "source": [
        "books.columns"
      ]
    },
    {
      "cell_type": "code",
      "execution_count": 10,
      "metadata": {
        "colab": {
          "base_uri": "https://localhost:8080/"
        },
        "id": "68fefqUoZirZ",
        "outputId": "b00d494d-260b-47b2-cdd9-b257b6bd1ef9"
      },
      "outputs": [
        {
          "name": "stdout",
          "output_type": "stream",
          "text": [
            "Number of Unique Book Authors are 102023\n"
          ]
        }
      ],
      "source": [
        "print('Number of Unique Book Authors are {}'.format(len(books['Book-Author'].unique())))"
      ]
    },
    {
      "cell_type": "code",
      "execution_count": 11,
      "metadata": {
        "colab": {
          "base_uri": "https://localhost:8080/"
        },
        "id": "GkKGfIbKZkxp",
        "outputId": "02cf0b33-3cfe-4fc3-af20-b6f07c0fa194"
      },
      "outputs": [
        {
          "name": "stdout",
          "output_type": "stream",
          "text": [
            "Number of Unique Books are 242135\n"
          ]
        }
      ],
      "source": [
        "print('Number of Unique Books are {}'.format(len(books['Book-Title'].unique())))"
      ]
    },
    {
      "cell_type": "code",
      "execution_count": 12,
      "metadata": {
        "colab": {
          "base_uri": "https://localhost:8080/"
        },
        "id": "XF5edjQbZmc9",
        "outputId": "b4f6d8c5-44ae-4e42-ae40-596dd32b224a"
      },
      "outputs": [
        {
          "name": "stdout",
          "output_type": "stream",
          "text": [
            "<class 'pandas.core.frame.DataFrame'>\n",
            "RangeIndex: 271360 entries, 0 to 271359\n",
            "Data columns (total 8 columns):\n",
            " #   Column               Non-Null Count   Dtype \n",
            "---  ------               --------------   ----- \n",
            " 0   ISBN                 271360 non-null  object\n",
            " 1   Book-Title           271360 non-null  object\n",
            " 2   Book-Author          271358 non-null  object\n",
            " 3   Year-Of-Publication  271360 non-null  object\n",
            " 4   Publisher            271358 non-null  object\n",
            " 5   Image-URL-S          271360 non-null  object\n",
            " 6   Image-URL-M          271360 non-null  object\n",
            " 7   Image-URL-L          271357 non-null  object\n",
            "dtypes: object(8)\n",
            "memory usage: 16.6+ MB\n"
          ]
        }
      ],
      "source": [
        "books.info()"
      ]
    },
    {
      "cell_type": "markdown",
      "metadata": {
        "id": "jOMvmlnNZo6G"
      },
      "source": [
        "DATA CLEANING\n",
        "- missing/null values\n",
        "- duplicates"
      ]
    },
    {
      "cell_type": "code",
      "execution_count": 13,
      "metadata": {
        "colab": {
          "base_uri": "https://localhost:8080/"
        },
        "id": "AzZyc9UDZop2",
        "outputId": "545c7054-62fa-463e-9ecc-61a36177d6ec"
      },
      "outputs": [
        {
          "data": {
            "text/plain": [
              "ISBN                   False\n",
              "Book-Title             False\n",
              "Book-Author             True\n",
              "Year-Of-Publication    False\n",
              "Publisher               True\n",
              "Image-URL-S            False\n",
              "Image-URL-M            False\n",
              "Image-URL-L             True\n",
              "dtype: bool"
            ]
          },
          "execution_count": 13,
          "metadata": {},
          "output_type": "execute_result"
        }
      ],
      "source": [
        "books.isnull().any()"
      ]
    },
    {
      "cell_type": "code",
      "execution_count": 14,
      "metadata": {
        "colab": {
          "base_uri": "https://localhost:8080/"
        },
        "id": "yybltVK1Ztkd",
        "outputId": "e27eae19-e70a-402c-bd54-97af7892fbd0"
      },
      "outputs": [
        {
          "data": {
            "text/plain": [
              "ISBN                   0\n",
              "Book-Title             0\n",
              "Book-Author            2\n",
              "Year-Of-Publication    0\n",
              "Publisher              2\n",
              "Image-URL-S            0\n",
              "Image-URL-M            0\n",
              "Image-URL-L            3\n",
              "dtype: int64"
            ]
          },
          "execution_count": 14,
          "metadata": {},
          "output_type": "execute_result"
        }
      ],
      "source": [
        "books.isnull().sum()"
      ]
    },
    {
      "cell_type": "code",
      "execution_count": 15,
      "metadata": {
        "colab": {
          "base_uri": "https://localhost:8080/"
        },
        "id": "f5G9vtA4ZxVM",
        "outputId": "3a0f6f8b-e4e9-4d6d-c607-37d6b1154dad"
      },
      "outputs": [
        {
          "data": {
            "text/plain": [
              "0"
            ]
          },
          "execution_count": 15,
          "metadata": {},
          "output_type": "execute_result"
        }
      ],
      "source": [
        "books.duplicated().sum()"
      ]
    },
    {
      "cell_type": "markdown",
      "metadata": {
        "id": "3lg4VKaVZ1F2"
      },
      "source": [
        "DATASET 2 - USERS\n",
        "----"
      ]
    },
    {
      "cell_type": "code",
      "execution_count": 16,
      "metadata": {
        "colab": {
          "base_uri": "https://localhost:8080/",
          "height": 206
        },
        "id": "OXofqd0VZ1t-",
        "outputId": "52d421da-67d9-40df-9cf5-18fc0b075af2"
      },
      "outputs": [
        {
          "data": {
            "text/html": [
              "<div>\n",
              "<style scoped>\n",
              "    .dataframe tbody tr th:only-of-type {\n",
              "        vertical-align: middle;\n",
              "    }\n",
              "\n",
              "    .dataframe tbody tr th {\n",
              "        vertical-align: top;\n",
              "    }\n",
              "\n",
              "    .dataframe thead th {\n",
              "        text-align: right;\n",
              "    }\n",
              "</style>\n",
              "<table border=\"1\" class=\"dataframe\">\n",
              "  <thead>\n",
              "    <tr style=\"text-align: right;\">\n",
              "      <th></th>\n",
              "      <th>User-ID</th>\n",
              "      <th>Location</th>\n",
              "      <th>Age</th>\n",
              "    </tr>\n",
              "  </thead>\n",
              "  <tbody>\n",
              "    <tr>\n",
              "      <th>0</th>\n",
              "      <td>1</td>\n",
              "      <td>nyc, new york, usa</td>\n",
              "      <td>NaN</td>\n",
              "    </tr>\n",
              "    <tr>\n",
              "      <th>1</th>\n",
              "      <td>2</td>\n",
              "      <td>stockton, california, usa</td>\n",
              "      <td>18.0</td>\n",
              "    </tr>\n",
              "    <tr>\n",
              "      <th>2</th>\n",
              "      <td>3</td>\n",
              "      <td>moscow, yukon territory, russia</td>\n",
              "      <td>NaN</td>\n",
              "    </tr>\n",
              "    <tr>\n",
              "      <th>3</th>\n",
              "      <td>4</td>\n",
              "      <td>porto, v.n.gaia, portugal</td>\n",
              "      <td>17.0</td>\n",
              "    </tr>\n",
              "    <tr>\n",
              "      <th>4</th>\n",
              "      <td>5</td>\n",
              "      <td>farnborough, hants, united kingdom</td>\n",
              "      <td>NaN</td>\n",
              "    </tr>\n",
              "  </tbody>\n",
              "</table>\n",
              "</div>"
            ],
            "text/plain": [
              "   User-ID                            Location   Age\n",
              "0        1                  nyc, new york, usa   NaN\n",
              "1        2           stockton, california, usa  18.0\n",
              "2        3     moscow, yukon territory, russia   NaN\n",
              "3        4           porto, v.n.gaia, portugal  17.0\n",
              "4        5  farnborough, hants, united kingdom   NaN"
            ]
          },
          "execution_count": 16,
          "metadata": {},
          "output_type": "execute_result"
        }
      ],
      "source": [
        "users.head()"
      ]
    },
    {
      "cell_type": "code",
      "execution_count": 17,
      "metadata": {
        "colab": {
          "base_uri": "https://localhost:8080/"
        },
        "id": "s4juq0uSZ4Mu",
        "outputId": "a50f9397-17d1-4459-ac3f-1e998f23d5ef"
      },
      "outputs": [
        {
          "data": {
            "text/plain": [
              "(278858, 3)"
            ]
          },
          "execution_count": 17,
          "metadata": {},
          "output_type": "execute_result"
        }
      ],
      "source": [
        "users.shape"
      ]
    },
    {
      "cell_type": "code",
      "execution_count": 18,
      "metadata": {
        "colab": {
          "base_uri": "https://localhost:8080/"
        },
        "id": "KsduoDkeZ4K1",
        "outputId": "2eaf473e-1430-4e7a-d72f-9012e7c7a5a5"
      },
      "outputs": [
        {
          "data": {
            "text/plain": [
              "Index(['User-ID', 'Location', 'Age'], dtype='object')"
            ]
          },
          "execution_count": 18,
          "metadata": {},
          "output_type": "execute_result"
        }
      ],
      "source": [
        "users.columns"
      ]
    },
    {
      "cell_type": "code",
      "execution_count": 19,
      "metadata": {
        "colab": {
          "base_uri": "https://localhost:8080/"
        },
        "id": "jdl-9v3nZ4IY",
        "outputId": "3a3e9058-1c0b-4538-d02b-d0ae67f323b7"
      },
      "outputs": [
        {
          "name": "stdout",
          "output_type": "stream",
          "text": [
            "<class 'pandas.core.frame.DataFrame'>\n",
            "RangeIndex: 278858 entries, 0 to 278857\n",
            "Data columns (total 3 columns):\n",
            " #   Column    Non-Null Count   Dtype  \n",
            "---  ------    --------------   -----  \n",
            " 0   User-ID   278858 non-null  int64  \n",
            " 1   Location  278858 non-null  object \n",
            " 2   Age       168096 non-null  float64\n",
            "dtypes: float64(1), int64(1), object(1)\n",
            "memory usage: 6.4+ MB\n"
          ]
        }
      ],
      "source": [
        "users.info()"
      ]
    },
    {
      "cell_type": "code",
      "execution_count": 20,
      "metadata": {
        "colab": {
          "base_uri": "https://localhost:8080/"
        },
        "id": "_q1uCEM6Z4GO",
        "outputId": "6176d3f3-b787-4e8d-ea51-b8fd9e0a6b33"
      },
      "outputs": [
        {
          "name": "stdout",
          "output_type": "stream",
          "text": [
            "user unique geolocation : 57339\n"
          ]
        }
      ],
      "source": [
        "print('user unique geolocation : {}'.format(len(users['Location'].unique())))"
      ]
    },
    {
      "cell_type": "code",
      "execution_count": 21,
      "metadata": {
        "colab": {
          "base_uri": "https://localhost:8080/"
        },
        "id": "-MppAgwxZ4EB",
        "outputId": "56628854-f55f-4ca7-865b-743dcf5065cf"
      },
      "outputs": [
        {
          "data": {
            "text/plain": [
              "User-ID          0\n",
              "Location         0\n",
              "Age         110762\n",
              "dtype: int64"
            ]
          },
          "execution_count": 21,
          "metadata": {},
          "output_type": "execute_result"
        }
      ],
      "source": [
        "# Missing values\n",
        "users.isnull().sum()"
      ]
    },
    {
      "cell_type": "code",
      "execution_count": 22,
      "metadata": {
        "colab": {
          "base_uri": "https://localhost:8080/"
        },
        "id": "Ta4B6sx-Z4Bx",
        "outputId": "881cdb31-3869-4b9f-86eb-8423f26a5afe"
      },
      "outputs": [
        {
          "data": {
            "text/plain": [
              "0"
            ]
          },
          "execution_count": 22,
          "metadata": {},
          "output_type": "execute_result"
        }
      ],
      "source": [
        "# duplicate values\n",
        "users.duplicated().sum()"
      ]
    },
    {
      "cell_type": "markdown",
      "metadata": {
        "id": "mCh-bpiiaFRW"
      },
      "source": [
        "Observations:\n",
        "\n",
        "- user unique geolocation : 57339\n",
        "- Age : so many missing vlaues\n",
        "- measures taken for Age Attribute  : Drop\n",
        "- difficult to perform recommendatios based on AGE of users"
      ]
    },
    {
      "cell_type": "markdown",
      "metadata": {
        "id": "6cSr-1IcaG_C"
      },
      "source": [
        "DATASET 3 - RATINGS\n",
        "---"
      ]
    },
    {
      "cell_type": "code",
      "execution_count": 23,
      "metadata": {
        "colab": {
          "base_uri": "https://localhost:8080/",
          "height": 206
        },
        "id": "39E__WxBZ3_n",
        "outputId": "396b49b4-0f93-499e-e353-13b0cd9f10ce"
      },
      "outputs": [
        {
          "data": {
            "text/html": [
              "<div>\n",
              "<style scoped>\n",
              "    .dataframe tbody tr th:only-of-type {\n",
              "        vertical-align: middle;\n",
              "    }\n",
              "\n",
              "    .dataframe tbody tr th {\n",
              "        vertical-align: top;\n",
              "    }\n",
              "\n",
              "    .dataframe thead th {\n",
              "        text-align: right;\n",
              "    }\n",
              "</style>\n",
              "<table border=\"1\" class=\"dataframe\">\n",
              "  <thead>\n",
              "    <tr style=\"text-align: right;\">\n",
              "      <th></th>\n",
              "      <th>User-ID</th>\n",
              "      <th>ISBN</th>\n",
              "      <th>Book-Rating</th>\n",
              "    </tr>\n",
              "  </thead>\n",
              "  <tbody>\n",
              "    <tr>\n",
              "      <th>0</th>\n",
              "      <td>276725</td>\n",
              "      <td>034545104X</td>\n",
              "      <td>0</td>\n",
              "    </tr>\n",
              "    <tr>\n",
              "      <th>1</th>\n",
              "      <td>276726</td>\n",
              "      <td>0155061224</td>\n",
              "      <td>5</td>\n",
              "    </tr>\n",
              "    <tr>\n",
              "      <th>2</th>\n",
              "      <td>276727</td>\n",
              "      <td>0446520802</td>\n",
              "      <td>0</td>\n",
              "    </tr>\n",
              "    <tr>\n",
              "      <th>3</th>\n",
              "      <td>276729</td>\n",
              "      <td>052165615X</td>\n",
              "      <td>3</td>\n",
              "    </tr>\n",
              "    <tr>\n",
              "      <th>4</th>\n",
              "      <td>276729</td>\n",
              "      <td>0521795028</td>\n",
              "      <td>6</td>\n",
              "    </tr>\n",
              "  </tbody>\n",
              "</table>\n",
              "</div>"
            ],
            "text/plain": [
              "   User-ID        ISBN  Book-Rating\n",
              "0   276725  034545104X            0\n",
              "1   276726  0155061224            5\n",
              "2   276727  0446520802            0\n",
              "3   276729  052165615X            3\n",
              "4   276729  0521795028            6"
            ]
          },
          "execution_count": 23,
          "metadata": {},
          "output_type": "execute_result"
        }
      ],
      "source": [
        "ratings.head()"
      ]
    },
    {
      "cell_type": "code",
      "execution_count": 24,
      "metadata": {
        "colab": {
          "base_uri": "https://localhost:8080/"
        },
        "id": "jlvsfL6uZ39J",
        "outputId": "5fbafcdf-1f95-4651-e2e2-6cc1e88ac326"
      },
      "outputs": [
        {
          "data": {
            "text/plain": [
              "(1149780, 3)"
            ]
          },
          "execution_count": 24,
          "metadata": {},
          "output_type": "execute_result"
        }
      ],
      "source": [
        "ratings.shape"
      ]
    },
    {
      "cell_type": "code",
      "execution_count": 25,
      "metadata": {
        "colab": {
          "base_uri": "https://localhost:8080/"
        },
        "id": "2wAV92psZ363",
        "outputId": "35459ab3-f1e3-42c6-a443-5e5b5cdf7064"
      },
      "outputs": [
        {
          "data": {
            "text/plain": [
              "Index(['User-ID', 'ISBN', 'Book-Rating'], dtype='object')"
            ]
          },
          "execution_count": 25,
          "metadata": {},
          "output_type": "execute_result"
        }
      ],
      "source": [
        "ratings.columns"
      ]
    },
    {
      "cell_type": "code",
      "execution_count": 26,
      "metadata": {
        "colab": {
          "base_uri": "https://localhost:8080/"
        },
        "id": "EnU7VvRcZ34n",
        "outputId": "faa94a9d-b903-4aa0-a255-c6a2647d19e7"
      },
      "outputs": [
        {
          "name": "stdout",
          "output_type": "stream",
          "text": [
            "<class 'pandas.core.frame.DataFrame'>\n",
            "RangeIndex: 1149780 entries, 0 to 1149779\n",
            "Data columns (total 3 columns):\n",
            " #   Column       Non-Null Count    Dtype \n",
            "---  ------       --------------    ----- \n",
            " 0   User-ID      1149780 non-null  int64 \n",
            " 1   ISBN         1149780 non-null  object\n",
            " 2   Book-Rating  1149780 non-null  int64 \n",
            "dtypes: int64(2), object(1)\n",
            "memory usage: 26.3+ MB\n"
          ]
        }
      ],
      "source": [
        "ratings.info()"
      ]
    },
    {
      "cell_type": "code",
      "execution_count": 27,
      "metadata": {
        "colab": {
          "base_uri": "https://localhost:8080/"
        },
        "id": "ymPtFphpZ32R",
        "outputId": "6a462430-5fd6-4896-bdeb-5dd1694a964f"
      },
      "outputs": [
        {
          "data": {
            "text/plain": [
              "User-ID        0\n",
              "ISBN           0\n",
              "Book-Rating    0\n",
              "dtype: int64"
            ]
          },
          "execution_count": 27,
          "metadata": {},
          "output_type": "execute_result"
        }
      ],
      "source": [
        "#  missing values\n",
        "ratings.isnull().sum()"
      ]
    },
    {
      "cell_type": "code",
      "execution_count": 28,
      "metadata": {
        "colab": {
          "base_uri": "https://localhost:8080/"
        },
        "id": "lr0BJfkiZ3zn",
        "outputId": "380b3219-f471-4325-81b0-94f94d972a61"
      },
      "outputs": [
        {
          "data": {
            "text/plain": [
              "0"
            ]
          },
          "execution_count": 28,
          "metadata": {},
          "output_type": "execute_result"
        }
      ],
      "source": [
        "# duplicate values\n",
        "ratings.duplicated().sum()"
      ]
    },
    {
      "cell_type": "code",
      "execution_count": 29,
      "metadata": {
        "colab": {
          "base_uri": "https://localhost:8080/"
        },
        "id": "gMKiUI5JZ3w5",
        "outputId": "36721cc9-263e-46e0-a0e9-328cacd18e45"
      },
      "outputs": [
        {
          "data": {
            "text/plain": [
              "count    1.149780e+06\n",
              "mean     2.866950e+00\n",
              "std      3.854184e+00\n",
              "min      0.000000e+00\n",
              "25%      0.000000e+00\n",
              "50%      0.000000e+00\n",
              "75%      7.000000e+00\n",
              "max      1.000000e+01\n",
              "Name: Book-Rating, dtype: float64"
            ]
          },
          "execution_count": 29,
          "metadata": {},
          "output_type": "execute_result"
        }
      ],
      "source": [
        "ratings['Book-Rating'].describe()"
      ]
    },
    {
      "cell_type": "code",
      "execution_count": 30,
      "metadata": {
        "colab": {
          "base_uri": "https://localhost:8080/"
        },
        "id": "WbBG-hEdaOKf",
        "outputId": "aa254849-3439-434e-fcad-bb3c93d7a7b4"
      },
      "outputs": [
        {
          "data": {
            "text/plain": [
              "Book-Rating\n",
              "0     716109\n",
              "8     103736\n",
              "10     78610\n",
              "7      76457\n",
              "9      67541\n",
              "5      50974\n",
              "6      36924\n",
              "4       8904\n",
              "3       5996\n",
              "2       2759\n",
              "1       1770\n",
              "Name: count, dtype: int64"
            ]
          },
          "execution_count": 30,
          "metadata": {},
          "output_type": "execute_result"
        }
      ],
      "source": [
        "#Ratings Frequency\n",
        "ratings['Book-Rating'].value_counts()"
      ]
    },
    {
      "cell_type": "markdown",
      "metadata": {
        "id": "D55Hs43UaYsu"
      },
      "source": [
        "observations:\n",
        "\n",
        "- rating from : 0  to 10\n",
        "- median : 0 (means more rating of 0) , not rated and filled with 0\n",
        "- difficult to use Recommendation based on Ratings\n",
        "- use **average ratings**"
      ]
    },
    {
      "cell_type": "markdown",
      "metadata": {
        "id": "eljNiFPIabM_"
      },
      "source": [
        "Overall:\n",
        "- users/books have total 270k observations\n",
        "- ratings have total 1.1mil observations"
      ]
    },
    {
      "cell_type": "markdown",
      "metadata": {
        "id": "BrBIgxoB5TbG"
      },
      "source": [
        "# DATA CLEANING"
      ]
    },
    {
      "cell_type": "markdown",
      "metadata": {
        "id": "JsomFw5ROODA"
      },
      "source": [
        "AGE\n"
      ]
    },
    {
      "cell_type": "code",
      "execution_count": 31,
      "metadata": {
        "id": "w499BtU_OODA"
      },
      "outputs": [],
      "source": [
        "users['Age'] = users['Age'].fillna(users['Age'].median())"
      ]
    },
    {
      "cell_type": "markdown",
      "metadata": {
        "id": "Bq3pfp_YOODA"
      },
      "source": [
        "BOOKS"
      ]
    },
    {
      "cell_type": "code",
      "execution_count": 32,
      "metadata": {
        "id": "9gPpfI4COODA"
      },
      "outputs": [],
      "source": [
        "#ISBN '078946697X'\n",
        "books.loc[books.ISBN == '078946697X','Year-Of-Publication'] = 2000\n",
        "books.loc[books.ISBN == '078946697X','Book-Author'] = \"Michael Teitelbaum\"\n",
        "books.loc[books.ISBN == '078946697X','Publisher'] = \"DK Publishing Inc\"\n",
        "books.loc[books.ISBN == '078946697X','Book-Title'] = \"DK Readers: Creating the X-Men, How It All Began (Level 4: Proficient Readers)\"\n"
      ]
    },
    {
      "cell_type": "code",
      "execution_count": 33,
      "metadata": {
        "id": "fzTUfQl0OODB"
      },
      "outputs": [],
      "source": [
        "#ISBN '0789466953'\n",
        "books.loc[books.ISBN == '0789466953','Year-Of-Publication'] = 2000\n",
        "books.loc[books.ISBN == '0789466953','Book-Author'] = \"James Buckley\"\n",
        "books.loc[books.ISBN == '0789466953','Publisher'] = \"DK Publishing Inc\"\n",
        "books.loc[books.ISBN == '0789466953','Book-Title'] = \"DK Readers: Creating the X-Men, How Comic Books Come to Life (Level 4: Proficient Readers)\"\n"
      ]
    },
    {
      "cell_type": "code",
      "execution_count": 34,
      "metadata": {
        "id": "Yi7cMEfTOODB"
      },
      "outputs": [],
      "source": [
        "# id : 2070426769\n",
        "books.loc[books.ISBN == '2070426769','Year-Of-Publication'] = 2003\n",
        "books.loc[books.ISBN == '2070426769','Book-Author'] = \"Jean-Marie Gustave Le ClÃ?Â©zio\"\n",
        "books.loc[books.ISBN == '2070426769','Publisher'] = \"Gallimard\"\n",
        "books.loc[books.ISBN == '2070426769','Book-Title'] = \"Peuple du ciel, suivi de 'Les Bergers\""
      ]
    },
    {
      "cell_type": "code",
      "execution_count": 35,
      "metadata": {
        "id": "I37mB_CWOODB"
      },
      "outputs": [],
      "source": [
        "books['Year-Of-Publication']=pd.to_numeric(books['Year-Of-Publication'], errors='coerce')"
      ]
    },
    {
      "cell_type": "markdown",
      "metadata": {
        "id": "SJVYuTlqOODB"
      },
      "source": [
        "RATINGS"
      ]
    },
    {
      "cell_type": "code",
      "execution_count": 36,
      "metadata": {
        "id": "A5erFhsvOODB"
      },
      "outputs": [],
      "source": [
        "ratings= ratings[ratings['Book-Rating'] != 0]"
      ]
    },
    {
      "cell_type": "markdown",
      "metadata": {
        "id": "j7Cz0PTjaqC2"
      },
      "source": [
        "# Data Visualization\n",
        "----"
      ]
    },
    {
      "cell_type": "markdown",
      "metadata": {
        "id": "Hqr12651aylj"
      },
      "source": [
        "RATINGS"
      ]
    },
    {
      "cell_type": "code",
      "execution_count": 37,
      "metadata": {
        "colab": {
          "base_uri": "https://localhost:8080/",
          "height": 413
        },
        "id": "L8sbNRzzau-X",
        "outputId": "a7400ade-6014-4f7a-9915-bc2b8daee5d4"
      },
      "outputs": [
        {
          "data": {
            "text/plain": [
              "Text(0.5, 1.0, 'Ratings')"
            ]
          },
          "execution_count": 37,
          "metadata": {},
          "output_type": "execute_result"
        },
        {
          "data": {
            "image/png": "[encoded data removed]",
            "text/plain": [
              "<Figure size 1000x400 with 1 Axes>"
            ]
          },
          "metadata": {},
          "output_type": "display_data"
        }
      ],
      "source": [
        "plt.figure(figsize=(10,4))\n",
        "ratings['Book-Rating'].hist(bins=70)\n",
        "plt.title('Ratings',  fontsize = 18, fontweight = 'bold')"
      ]
    },
    {
      "cell_type": "code",
      "execution_count": 38,
      "metadata": {
        "colab": {
          "base_uri": "https://localhost:8080/",
          "height": 570
        },
        "id": "hJbLaY6Xau7p",
        "outputId": "1164fd4d-8939-4346-a981-9d7679bc9be8"
      },
      "outputs": [
        {
          "data": {
            "text/plain": [
              "Text(0.5, 1.0, 'Ratings Frequency')"
            ]
          },
          "execution_count": 38,
          "metadata": {},
          "output_type": "execute_result"
        },
        {
          "data": {
            "image/png": "[encoded data removed]",
            "text/plain": [
              "<Figure size 1000x600 with 1 Axes>"
            ]
          },
          "metadata": {},
          "output_type": "display_data"
        }
      ],
      "source": [
        "#rating frequency\n",
        "plt.figure(figsize=(10,6))\n",
        "ratings['Book-Rating'].value_counts().plot(kind='bar')\n",
        "plt.title('Ratings Frequency',  fontsize = 18, fontweight = 'bold')"
      ]
    },
    {
      "cell_type": "markdown",
      "metadata": {
        "id": "ok-s86pza6Tm"
      },
      "source": [
        "BOOKS"
      ]
    },
    {
      "cell_type": "code",
      "execution_count": 39,
      "metadata": {
        "colab": {
          "base_uri": "https://localhost:8080/"
        },
        "id": "SAW5M9x5au5M",
        "outputId": "e8a6e035-b100-404c-8c1f-7e3b1e8c375b"
      },
      "outputs": [
        {
          "data": {
            "text/plain": [
              "Index(['Selected Poems', 'Little Women', 'Wuthering Heights',\n",
              "       'The Secret Garden', 'Dracula', 'Adventures of Huckleberry Finn',\n",
              "       'Jane Eyre', 'The Night Before Christmas', 'Pride and Prejudice',\n",
              "       'Great Expectations'],\n",
              "      dtype='object', name='Book-Title')"
            ]
          },
          "execution_count": 39,
          "metadata": {},
          "output_type": "execute_result"
        }
      ],
      "source": [
        "#TOP SELLING BOOKS\n",
        "top_books = books['Book-Title'].value_counts().head(10)\n",
        "top_books.index"
      ]
    },
    {
      "cell_type": "code",
      "execution_count": 40,
      "metadata": {
        "colab": {
          "base_uri": "https://localhost:8080/",
          "height": 771
        },
        "id": "bRsIp4l8au26",
        "outputId": "4bd0c73b-5b05-400b-ba49-64781b84fdd5"
      },
      "outputs": [
        {
          "data": {
            "text/plain": [
              "Text(0.5, 1.0, 'top 10 selling books')"
            ]
          },
          "execution_count": 40,
          "metadata": {},
          "output_type": "execute_result"
        },
        {
          "data": {
            "image/png": "[encoded data removed]",
            "text/plain": [
              "<Figure size 1000x600 with 1 Axes>"
            ]
          },
          "metadata": {},
          "output_type": "display_data"
        }
      ],
      "source": [
        "#top selling books\n",
        "\n",
        "plt.figure(figsize=(10,6))\n",
        "books['Book-Title'].value_counts().head(10).plot(kind='bar')\n",
        "plt.title('top 10 selling books',  fontsize = 18, fontweight = 'bold')"
      ]
    },
    {
      "cell_type": "code",
      "execution_count": 41,
      "metadata": {
        "colab": {
          "base_uri": "https://localhost:8080/",
          "height": 757
        },
        "id": "_YVQhgQPau0d",
        "outputId": "5bc4ae21-65ff-42b8-d789-f27e7823d572"
      },
      "outputs": [
        {
          "data": {
            "image/png": "[encoded data removed]",
            "text/plain": [
              "<Figure size 1600x900 with 1 Axes>"
            ]
          },
          "metadata": {},
          "output_type": "display_data"
        }
      ],
      "source": [
        "#PIECHART for contributions\n",
        "\n",
        "plt.figure(figsize = (16,9))\n",
        "plt.pie(top_books,labels=top_books.index,autopct= '%.2f%%')\n",
        "plt.title(\"Top 10 Most Frequent Books Bought\", fontsize = 18, fontweight = 'bold')\n",
        "plt.show()"
      ]
    },
    {
      "cell_type": "markdown",
      "metadata": {
        "id": "eE4FtMcibFjm"
      },
      "source": [
        "lets try to visualize some **Explicit Opinions** based on given datasets\n",
        "basically\n",
        "- author\n",
        "- publisher"
      ]
    },
    {
      "cell_type": "code",
      "execution_count": 42,
      "metadata": {
        "colab": {
          "base_uri": "https://localhost:8080/",
          "height": 697
        },
        "id": "bDBJME-9auyH",
        "outputId": "266a16d4-d09c-4022-b763-825549a0e22e"
      },
      "outputs": [
        {
          "data": {
            "text/plain": [
              "Text(0.5, 1.0, 'top 10 selling authors')"
            ]
          },
          "execution_count": 42,
          "metadata": {},
          "output_type": "execute_result"
        },
        {
          "data": {
            "image/png": "[encoded data removed]",
            "text/plain": [
              "<Figure size 1000x600 with 1 Axes>"
            ]
          },
          "metadata": {},
          "output_type": "display_data"
        }
      ],
      "source": [
        "#TOP SELLING AUTHORS\n",
        "\n",
        "top_authors = books['Book-Author'].value_counts().head(10)\n",
        "\n",
        "plt.figure(figsize=(10,6))\n",
        "books['Book-Author'].value_counts().head(10).plot(kind='bar')\n",
        "plt.title('top 10 selling authors',  fontsize = 18, fontweight = 'bold')"
      ]
    },
    {
      "cell_type": "code",
      "execution_count": 43,
      "metadata": {
        "colab": {
          "base_uri": "https://localhost:8080/",
          "height": 727
        },
        "id": "c-j5VtPMauvn",
        "outputId": "f46435a6-4212-44cd-d7ef-9279b7b63a6c"
      },
      "outputs": [
        {
          "data": {
            "text/plain": [
              "Text(0.5, 1.0, 'Top 10 Most Selling Publishers')"
            ]
          },
          "execution_count": 43,
          "metadata": {},
          "output_type": "execute_result"
        },
        {
          "data": {
            "image/png": "[encoded data removed]",
            "text/plain": [
              "<Figure size 1000x600 with 1 Axes>"
            ]
          },
          "metadata": {},
          "output_type": "display_data"
        }
      ],
      "source": [
        "#TOP SELLING PUBLISHERS\n",
        "\n",
        "top_pub = books['Publisher'].value_counts().head(10)\n",
        "\n",
        "plt.figure(figsize=(10,6))\n",
        "books['Publisher'].value_counts().head(10).plot(kind='bar')\n",
        "plt.title('Top 10 Most Selling Publishers',  fontsize = 18, fontweight = 'bold')"
      ]
    },
    {
      "cell_type": "markdown",
      "metadata": {
        "id": "ESeubfp2bO4q"
      },
      "source": [
        "USERS"
      ]
    },
    {
      "cell_type": "code",
      "execution_count": 44,
      "metadata": {
        "colab": {
          "base_uri": "https://localhost:8080/"
        },
        "id": "PJUEVpoTautc",
        "outputId": "49fd1395-b112-4e76-95e5-eaddca4955d4"
      },
      "outputs": [
        {
          "data": {
            "text/plain": [
              "2\n",
              " usa               139187\n",
              " canada             21558\n",
              " united kingdom     18286\n",
              " germany            17022\n",
              " spain              13095\n",
              " australia          11723\n",
              " italy              11242\n",
              "                     4598\n",
              " france              3442\n",
              " portugal            3306\n",
              "Name: count, dtype: int64"
            ]
          },
          "execution_count": 44,
          "metadata": {},
          "output_type": "execute_result"
        }
      ],
      "source": [
        "#splitting location for extracting countires\n",
        "\n",
        "top_country = users['Location'].str.split(',', expand=True)\n",
        "top_country[2].value_counts().head(10)"
      ]
    },
    {
      "cell_type": "code",
      "execution_count": 45,
      "metadata": {
        "colab": {
          "base_uri": "https://localhost:8080/",
          "height": 666
        },
        "id": "uoQiv9_oaurA",
        "outputId": "5f27c130-9665-421f-b612-b4de8b1fa388"
      },
      "outputs": [
        {
          "data": {
            "text/plain": [
              "Text(0.5, 1.0, 'Top 10 Country')"
            ]
          },
          "execution_count": 45,
          "metadata": {},
          "output_type": "execute_result"
        },
        {
          "data": {
            "image/png": "[encoded data removed]",
            "text/plain": [
              "<Figure size 1000x600 with 1 Axes>"
            ]
          },
          "metadata": {},
          "output_type": "display_data"
        }
      ],
      "source": [
        "#TOP COUNTRIES\n",
        "\n",
        "top_con = top_country[2].value_counts().head(10)\n",
        "\n",
        "plt.figure(figsize=(10,6))\n",
        "top_country[2].value_counts().head(10).plot(kind='bar')\n",
        "plt.title('Top 10 Country',  fontsize = 18, fontweight = 'bold')"
      ]
    },
    {
      "cell_type": "code",
      "execution_count": 46,
      "metadata": {
        "colab": {
          "base_uri": "https://localhost:8080/",
          "height": 757
        },
        "id": "_TNrFlwLbdUf",
        "outputId": "0137b960-04a3-4c13-c4fd-b3afa5445b34"
      },
      "outputs": [
        {
          "data": {
            "image/png": "[encoded data removed]",
            "text/plain": [
              "<Figure size 1200x900 with 1 Axes>"
            ]
          },
          "metadata": {},
          "output_type": "display_data"
        }
      ],
      "source": [
        "#TOP COUNTRIES contribution\n",
        "\n",
        "plt.figure(figsize = (12,9))\n",
        "plt.pie(top_con,labels=top_con.index,autopct= '%.2f%%')\n",
        "plt.title(\"Top 10 Countries\", fontsize = 18, fontweight = 'bold')\n",
        "plt.show()"
      ]
    },
    {
      "cell_type": "markdown",
      "metadata": {
        "id": "XFobo-rrbrbh"
      },
      "source": [
        "AGE"
      ]
    },
    {
      "cell_type": "code",
      "execution_count": 47,
      "metadata": {
        "colab": {
          "base_uri": "https://localhost:8080/",
          "height": 472
        },
        "id": "k3Ej6Fhwauo0",
        "outputId": "77d0f2c0-3307-45c8-bc02-aa83ab38e8a0"
      },
      "outputs": [
        {
          "data": {
            "image/png": "[encoded data removed]",
            "text/plain": [
              "<Figure size 640x480 with 1 Axes>"
            ]
          },
          "metadata": {},
          "output_type": "display_data"
        }
      ],
      "source": [
        "#AGE GROUPS\n",
        "users.Age.hist(bins=[0, 10, 20, 30, 40, 50, 100])\n",
        "plt.title('Age Distribution')\n",
        "plt.xlabel('Age')\n",
        "plt.ylabel('Count')\n",
        "plt.show()"
      ]
    },
    {
      "cell_type": "markdown",
      "metadata": {
        "id": "pJwNm6kVbuH1"
      },
      "source": [
        "observations :\n",
        "\n",
        "- most users of age group 20 to 40"
      ]
    },
    {
      "cell_type": "code",
      "execution_count": 48,
      "metadata": {
        "colab": {
          "base_uri": "https://localhost:8080/",
          "height": 489
        },
        "id": "76I3ndjaaumY",
        "outputId": "3cd71ee8-d003-4dab-a724-544443fb33cb"
      },
      "outputs": [
        {
          "data": {
            "text/plain": [
              "Text(0.5, 1.0, 'Age Distribution Plot')"
            ]
          },
          "execution_count": 48,
          "metadata": {},
          "output_type": "execute_result"
        },
        {
          "data": {
            "image/png": "[encoded data removed]",
            "text/plain": [
              "<Figure size 640x480 with 1 Axes>"
            ]
          },
          "metadata": {},
          "output_type": "display_data"
        }
      ],
      "source": [
        "sns.distplot(users.Age)\n",
        "plt.title('Age Distribution Plot')"
      ]
    },
    {
      "cell_type": "markdown",
      "metadata": {
        "id": "Iilebf2db2mv"
      },
      "source": [
        "Age Group Analysis"
      ]
    },
    {
      "cell_type": "code",
      "execution_count": 49,
      "metadata": {
        "id": "hoRPN75sauju"
      },
      "outputs": [],
      "source": [
        "df=users.copy()"
      ]
    },
    {
      "cell_type": "code",
      "execution_count": 50,
      "metadata": {
        "id": "MLx7Yp2Vaug_"
      },
      "outputs": [],
      "source": [
        "bins = [0, 20, 30, 40, 50, 60, 100]\n",
        "labels = ['0-20', '20-30', '30-40', '40-50', '50-60', '60+']\n",
        "\n",
        "df['age_group'] = pd.cut(df['Age'], bins=bins, labels=labels)"
      ]
    },
    {
      "cell_type": "code",
      "execution_count": 51,
      "metadata": {
        "id": "3K1WOa94cB0u"
      },
      "outputs": [],
      "source": [
        "x=df['age_group'].dropna()"
      ]
    },
    {
      "cell_type": "code",
      "execution_count": 52,
      "metadata": {
        "colab": {
          "base_uri": "https://localhost:8080/"
        },
        "id": "t3IK6fVbcDc4",
        "outputId": "1323ddb1-1d6a-4bdb-dfd5-f205c67874b0"
      },
      "outputs": [
        {
          "data": {
            "text/plain": [
              "age_group\n",
              "30-40    151015\n",
              "20-30     52261\n",
              "40-50     25898\n",
              "0-20      23603\n",
              "50-60     17596\n",
              "60+        7703\n",
              "Name: count, dtype: int64"
            ]
          },
          "execution_count": 52,
          "metadata": {},
          "output_type": "execute_result"
        }
      ],
      "source": [
        "x.value_counts()"
      ]
    },
    {
      "cell_type": "code",
      "execution_count": 53,
      "metadata": {
        "colab": {
          "base_uri": "https://localhost:8080/",
          "height": 757
        },
        "id": "IqVC4efNcHvl",
        "outputId": "1d3cc8f4-6c1b-4c56-915f-c786295c0049"
      },
      "outputs": [
        {
          "data": {
            "image/png": "[encoded data removed]",
            "text/plain": [
              "<Figure size 1000x900 with 1 Axes>"
            ]
          },
          "metadata": {},
          "output_type": "display_data"
        }
      ],
      "source": [
        "#age group\n",
        "\n",
        "plt.figure(figsize = (10,9))\n",
        "plt.pie(x.value_counts(),labels=x.value_counts().index,autopct= '%.2f%%', explode = [0.1,0.1,0.1,0.0,0.0,0.0])\n",
        "plt.title(\"AGE GROUP\", fontsize = 18, fontweight = 'bold')\n",
        "plt.show()"
      ]
    },
    {
      "cell_type": "markdown",
      "metadata": {
        "id": "c69-y8fROODB"
      },
      "source": [
        "# DATA WRANGLING"
      ]
    },
    {
      "cell_type": "code",
      "execution_count": 54,
      "metadata": {
        "colab": {
          "base_uri": "https://localhost:8080/",
          "height": 201
        },
        "id": "D09ANikt5lq8",
        "outputId": "3485538a-25de-4789-adad-e9d77f10ec79"
      },
      "outputs": [
        {
          "data": {
            "text/html": [
              "<div>\n",
              "<style scoped>\n",
              "    .dataframe tbody tr th:only-of-type {\n",
              "        vertical-align: middle;\n",
              "    }\n",
              "\n",
              "    .dataframe tbody tr th {\n",
              "        vertical-align: top;\n",
              "    }\n",
              "\n",
              "    .dataframe thead th {\n",
              "        text-align: right;\n",
              "    }\n",
              "</style>\n",
              "<table border=\"1\" class=\"dataframe\">\n",
              "  <thead>\n",
              "    <tr style=\"text-align: right;\">\n",
              "      <th></th>\n",
              "      <th>User-ID</th>\n",
              "      <th>ISBN</th>\n",
              "      <th>Book-Rating</th>\n",
              "      <th>Book-Title</th>\n",
              "      <th>Book-Author</th>\n",
              "      <th>Year-Of-Publication</th>\n",
              "      <th>Publisher</th>\n",
              "      <th>Image-URL-S</th>\n",
              "      <th>Image-URL-M</th>\n",
              "      <th>Image-URL-L</th>\n",
              "    </tr>\n",
              "  </thead>\n",
              "  <tbody>\n",
              "    <tr>\n",
              "      <th>0</th>\n",
              "      <td>276726</td>\n",
              "      <td>0155061224</td>\n",
              "      <td>5</td>\n",
              "      <td>Rites of Passage</td>\n",
              "      <td>Judith Rae</td>\n",
              "      <td>2001</td>\n",
              "      <td>Heinle</td>\n",
              "      <td>http://images.amazon.com/images/P/0155061224.0...</td>\n",
              "      <td>http://images.amazon.com/images/P/0155061224.0...</td>\n",
              "      <td>http://images.amazon.com/images/P/0155061224.0...</td>\n",
              "    </tr>\n",
              "    <tr>\n",
              "      <th>1</th>\n",
              "      <td>276729</td>\n",
              "      <td>052165615X</td>\n",
              "      <td>3</td>\n",
              "      <td>Help!: Level 1</td>\n",
              "      <td>Philip Prowse</td>\n",
              "      <td>1999</td>\n",
              "      <td>Cambridge University Press</td>\n",
              "      <td>http://images.amazon.com/images/P/052165615X.0...</td>\n",
              "      <td>http://images.amazon.com/images/P/052165615X.0...</td>\n",
              "      <td>http://images.amazon.com/images/P/052165615X.0...</td>\n",
              "    </tr>\n",
              "  </tbody>\n",
              "</table>\n",
              "</div>"
            ],
            "text/plain": [
              "   User-ID        ISBN  Book-Rating        Book-Title    Book-Author   \n",
              "0   276726  0155061224            5  Rites of Passage     Judith Rae  \\\n",
              "1   276729  052165615X            3    Help!: Level 1  Philip Prowse   \n",
              "\n",
              "   Year-Of-Publication                   Publisher   \n",
              "0                 2001                      Heinle  \\\n",
              "1                 1999  Cambridge University Press   \n",
              "\n",
              "                                         Image-URL-S   \n",
              "0  http://images.amazon.com/images/P/0155061224.0...  \\\n",
              "1  http://images.amazon.com/images/P/052165615X.0...   \n",
              "\n",
              "                                         Image-URL-M   \n",
              "0  http://images.amazon.com/images/P/0155061224.0...  \\\n",
              "1  http://images.amazon.com/images/P/052165615X.0...   \n",
              "\n",
              "                                         Image-URL-L  \n",
              "0  http://images.amazon.com/images/P/0155061224.0...  \n",
              "1  http://images.amazon.com/images/P/052165615X.0...  "
            ]
          },
          "execution_count": 54,
          "metadata": {},
          "output_type": "execute_result"
        }
      ],
      "source": [
        "#MERGING BOOKS AND RATING\n",
        "merge1=ratings.merge(books,on=\"ISBN\")\n",
        "merge1.head(2)"
      ]
    },
    {
      "cell_type": "code",
      "execution_count": 55,
      "metadata": {
        "colab": {
          "base_uri": "https://localhost:8080/",
          "height": 219
        },
        "id": "aZSd8jTVRUmI",
        "outputId": "3566d8c8-8b5a-4abc-ec06-cd6abc2e732f"
      },
      "outputs": [
        {
          "data": {
            "text/html": [
              "<div>\n",
              "<style scoped>\n",
              "    .dataframe tbody tr th:only-of-type {\n",
              "        vertical-align: middle;\n",
              "    }\n",
              "\n",
              "    .dataframe tbody tr th {\n",
              "        vertical-align: top;\n",
              "    }\n",
              "\n",
              "    .dataframe thead th {\n",
              "        text-align: right;\n",
              "    }\n",
              "</style>\n",
              "<table border=\"1\" class=\"dataframe\">\n",
              "  <thead>\n",
              "    <tr style=\"text-align: right;\">\n",
              "      <th></th>\n",
              "      <th>User-ID</th>\n",
              "      <th>ISBN</th>\n",
              "      <th>Book-Rating</th>\n",
              "      <th>Book-Title</th>\n",
              "      <th>Book-Author</th>\n",
              "      <th>Year-Of-Publication</th>\n",
              "      <th>Publisher</th>\n",
              "      <th>Image-URL-S</th>\n",
              "      <th>Image-URL-M</th>\n",
              "      <th>Image-URL-L</th>\n",
              "      <th>Location</th>\n",
              "      <th>Age</th>\n",
              "    </tr>\n",
              "  </thead>\n",
              "  <tbody>\n",
              "    <tr>\n",
              "      <th>0</th>\n",
              "      <td>276726</td>\n",
              "      <td>0155061224</td>\n",
              "      <td>5</td>\n",
              "      <td>Rites of Passage</td>\n",
              "      <td>Judith Rae</td>\n",
              "      <td>2001</td>\n",
              "      <td>Heinle</td>\n",
              "      <td>http://images.amazon.com/images/P/0155061224.0...</td>\n",
              "      <td>http://images.amazon.com/images/P/0155061224.0...</td>\n",
              "      <td>http://images.amazon.com/images/P/0155061224.0...</td>\n",
              "      <td>seattle, washington, usa</td>\n",
              "      <td>32.0</td>\n",
              "    </tr>\n",
              "    <tr>\n",
              "      <th>1</th>\n",
              "      <td>276729</td>\n",
              "      <td>052165615X</td>\n",
              "      <td>3</td>\n",
              "      <td>Help!: Level 1</td>\n",
              "      <td>Philip Prowse</td>\n",
              "      <td>1999</td>\n",
              "      <td>Cambridge University Press</td>\n",
              "      <td>http://images.amazon.com/images/P/052165615X.0...</td>\n",
              "      <td>http://images.amazon.com/images/P/052165615X.0...</td>\n",
              "      <td>http://images.amazon.com/images/P/052165615X.0...</td>\n",
              "      <td>rijeka, n/a, croatia</td>\n",
              "      <td>16.0</td>\n",
              "    </tr>\n",
              "  </tbody>\n",
              "</table>\n",
              "</div>"
            ],
            "text/plain": [
              "   User-ID        ISBN  Book-Rating        Book-Title    Book-Author   \n",
              "0   276726  0155061224            5  Rites of Passage     Judith Rae  \\\n",
              "1   276729  052165615X            3    Help!: Level 1  Philip Prowse   \n",
              "\n",
              "   Year-Of-Publication                   Publisher   \n",
              "0                 2001                      Heinle  \\\n",
              "1                 1999  Cambridge University Press   \n",
              "\n",
              "                                         Image-URL-S   \n",
              "0  http://images.amazon.com/images/P/0155061224.0...  \\\n",
              "1  http://images.amazon.com/images/P/052165615X.0...   \n",
              "\n",
              "                                         Image-URL-M   \n",
              "0  http://images.amazon.com/images/P/0155061224.0...  \\\n",
              "1  http://images.amazon.com/images/P/052165615X.0...   \n",
              "\n",
              "                                         Image-URL-L   \n",
              "0  http://images.amazon.com/images/P/0155061224.0...  \\\n",
              "1  http://images.amazon.com/images/P/052165615X.0...   \n",
              "\n",
              "                   Location   Age  \n",
              "0  seattle, washington, usa  32.0  \n",
              "1      rijeka, n/a, croatia  16.0  "
            ]
          },
          "execution_count": 55,
          "metadata": {},
          "output_type": "execute_result"
        }
      ],
      "source": [
        "#MERGING USERS Dataset\n",
        "merge2=merge1.merge(users,on=\"User-ID\")\n",
        "merge2.head(2)"
      ]
    },
    {
      "cell_type": "code",
      "execution_count": 56,
      "metadata": {
        "id": "XECGeHDQRl-B"
      },
      "outputs": [],
      "source": [
        "final_df=merge2.copy()"
      ]
    },
    {
      "cell_type": "code",
      "execution_count": 57,
      "metadata": {
        "colab": {
          "base_uri": "https://localhost:8080/"
        },
        "id": "ht92-AuyopKz",
        "outputId": "9b8f6216-a0a0-43e3-f1e6-84c6e4e748b5"
      },
      "outputs": [
        {
          "data": {
            "text/plain": [
              "(383842, 12)"
            ]
          },
          "execution_count": 57,
          "metadata": {},
          "output_type": "execute_result"
        }
      ],
      "source": [
        "final_df.shape"
      ]
    },
    {
      "cell_type": "code",
      "execution_count": 58,
      "metadata": {
        "colab": {
          "base_uri": "https://localhost:8080/"
        },
        "id": "36ueTZBieZ8h",
        "outputId": "ee7f9836-fb66-467a-85e8-d5dbf125b80f"
      },
      "outputs": [
        {
          "data": {
            "text/plain": [
              "Index(['User-ID', 'ISBN', 'Book-Rating', 'Book-Title', 'Book-Author',\n",
              "       'Year-Of-Publication', 'Publisher', 'Image-URL-S', 'Image-URL-M',\n",
              "       'Image-URL-L', 'Location', 'Age'],\n",
              "      dtype='object')"
            ]
          },
          "execution_count": 58,
          "metadata": {},
          "output_type": "execute_result"
        }
      ],
      "source": [
        "final_df.columns"
      ]
    },
    {
      "cell_type": "markdown",
      "metadata": {
        "id": "tHS_90voOODC"
      },
      "source": [
        "### HYPOTHESIS TESTING"
      ]
    },
    {
      "cell_type": "code",
      "execution_count": 59,
      "metadata": {
        "colab": {
          "base_uri": "https://localhost:8080/"
        },
        "id": "wgmsfYZIOODC",
        "outputId": "45c3d457-4231-45a9-951f-3525b9f927e1"
      },
      "outputs": [
        {
          "data": {
            "text/plain": [
              "PearsonRResult(statistic=0.033543988257198204, pvalue=5.56323826956682e-96)"
            ]
          },
          "execution_count": 59,
          "metadata": {},
          "output_type": "execute_result"
        }
      ],
      "source": [
        "#AGE VS RATING\n",
        "from scipy.stats.stats import pearsonr\n",
        "\n",
        "#calculation correlation coefficient and p-value between x=age and y=ratings\n",
        "pearsonr(final_df['Age'],final_df['Book-Rating'])"
      ]
    },
    {
      "cell_type": "code",
      "execution_count": 60,
      "metadata": {
        "colab": {
          "base_uri": "https://localhost:8080/"
        },
        "id": "ff8hdcXTOODD",
        "outputId": "c0a2e970-5985-488a-b472-3f3d2590fbf4"
      },
      "outputs": [
        {
          "data": {
            "text/plain": [
              "PearsonRResult(statistic=0.016388893373000722, pvalue=3.168010200671751e-24)"
            ]
          },
          "execution_count": 60,
          "metadata": {},
          "output_type": "execute_result"
        }
      ],
      "source": [
        "#AGE vs YOP\n",
        "pearsonr(final_df['Year-Of-Publication'],final_df['Age'])"
      ]
    },
    {
      "cell_type": "markdown",
      "metadata": {
        "id": "AnSSj3JwOODD"
      },
      "source": [
        "# RATING FREQUENCY CUTOFF"
      ]
    },
    {
      "cell_type": "markdown",
      "metadata": {
        "id": "VxkYPxSwOODD"
      },
      "source": [
        "### RATING FREQUECY > 50  "
      ]
    },
    {
      "cell_type": "code",
      "execution_count": 97,
      "metadata": {
        "id": "KbCUMKn1E-Av"
      },
      "outputs": [],
      "source": [
        "i = final_df.groupby(\"Book-Title\").count()[\"Book-Rating\"]>50\n",
        "top_books = i[i].index"
      ]
    },
    {
      "cell_type": "code",
      "execution_count": 98,
      "metadata": {
        "id": "hT5XtAssFEFW"
      },
      "outputs": [],
      "source": [
        "final_ratings = final_df[final_df[\"Book-Title\"].isin(top_books)]"
      ]
    },
    {
      "cell_type": "code",
      "execution_count": 99,
      "metadata": {
        "colab": {
          "base_uri": "https://localhost:8080/",
          "height": 347
        },
        "id": "k136a9S9OODE",
        "outputId": "c0762a2e-13bf-49cb-aa43-5a3da5b33e09"
      },
      "outputs": [
        {
          "data": {
            "text/html": [
              "<div>\n",
              "<style scoped>\n",
              "    .dataframe tbody tr th:only-of-type {\n",
              "        vertical-align: middle;\n",
              "    }\n",
              "\n",
              "    .dataframe tbody tr th {\n",
              "        vertical-align: top;\n",
              "    }\n",
              "\n",
              "    .dataframe thead th {\n",
              "        text-align: right;\n",
              "    }\n",
              "</style>\n",
              "<table border=\"1\" class=\"dataframe\">\n",
              "  <thead>\n",
              "    <tr style=\"text-align: right;\">\n",
              "      <th></th>\n",
              "      <th>User-ID</th>\n",
              "      <th>ISBN</th>\n",
              "      <th>Book-Rating</th>\n",
              "      <th>Book-Title</th>\n",
              "      <th>Book-Author</th>\n",
              "      <th>Year-Of-Publication</th>\n",
              "      <th>Publisher</th>\n",
              "      <th>Image-URL-S</th>\n",
              "      <th>Image-URL-M</th>\n",
              "      <th>Image-URL-L</th>\n",
              "      <th>Location</th>\n",
              "      <th>Age</th>\n",
              "    </tr>\n",
              "  </thead>\n",
              "  <tbody>\n",
              "    <tr>\n",
              "      <th>3</th>\n",
              "      <td>276744</td>\n",
              "      <td>038550120X</td>\n",
              "      <td>7</td>\n",
              "      <td>A Painted House</td>\n",
              "      <td>JOHN GRISHAM</td>\n",
              "      <td>2001</td>\n",
              "      <td>Doubleday</td>\n",
              "      <td>http://images.amazon.com/images/P/038550120X.0...</td>\n",
              "      <td>http://images.amazon.com/images/P/038550120X.0...</td>\n",
              "      <td>http://images.amazon.com/images/P/038550120X.0...</td>\n",
              "      <td>torrance, california, usa</td>\n",
              "      <td>32.0</td>\n",
              "    </tr>\n",
              "    <tr>\n",
              "      <th>4</th>\n",
              "      <td>11676</td>\n",
              "      <td>038550120X</td>\n",
              "      <td>10</td>\n",
              "      <td>A Painted House</td>\n",
              "      <td>JOHN GRISHAM</td>\n",
              "      <td>2001</td>\n",
              "      <td>Doubleday</td>\n",
              "      <td>http://images.amazon.com/images/P/038550120X.0...</td>\n",
              "      <td>http://images.amazon.com/images/P/038550120X.0...</td>\n",
              "      <td>http://images.amazon.com/images/P/038550120X.0...</td>\n",
              "      <td>n/a, n/a, n/a</td>\n",
              "      <td>32.0</td>\n",
              "    </tr>\n",
              "    <tr>\n",
              "      <th>7</th>\n",
              "      <td>11676</td>\n",
              "      <td>0684867621</td>\n",
              "      <td>3</td>\n",
              "      <td>The Girl Who Loved Tom Gordon : A Novel</td>\n",
              "      <td>Stephen King</td>\n",
              "      <td>1999</td>\n",
              "      <td>Scribner</td>\n",
              "      <td>http://images.amazon.com/images/P/0684867621.0...</td>\n",
              "      <td>http://images.amazon.com/images/P/0684867621.0...</td>\n",
              "      <td>http://images.amazon.com/images/P/0684867621.0...</td>\n",
              "      <td>n/a, n/a, n/a</td>\n",
              "      <td>32.0</td>\n",
              "    </tr>\n",
              "    <tr>\n",
              "      <th>13</th>\n",
              "      <td>11676</td>\n",
              "      <td>0440498058</td>\n",
              "      <td>8</td>\n",
              "      <td>A Wrinkle In Time</td>\n",
              "      <td>MADELEINE L'ENGLE</td>\n",
              "      <td>1998</td>\n",
              "      <td>Yearling</td>\n",
              "      <td>http://images.amazon.com/images/P/0440498058.0...</td>\n",
              "      <td>http://images.amazon.com/images/P/0440498058.0...</td>\n",
              "      <td>http://images.amazon.com/images/P/0440498058.0...</td>\n",
              "      <td>n/a, n/a, n/a</td>\n",
              "      <td>32.0</td>\n",
              "    </tr>\n",
              "    <tr>\n",
              "      <th>25</th>\n",
              "      <td>11676</td>\n",
              "      <td>002542730X</td>\n",
              "      <td>6</td>\n",
              "      <td>Politically Correct Bedtime Stories: Modern Ta...</td>\n",
              "      <td>James Finn Garner</td>\n",
              "      <td>1994</td>\n",
              "      <td>John Wiley &amp;amp; Sons Inc</td>\n",
              "      <td>http://images.amazon.com/images/P/002542730X.0...</td>\n",
              "      <td>http://images.amazon.com/images/P/002542730X.0...</td>\n",
              "      <td>http://images.amazon.com/images/P/002542730X.0...</td>\n",
              "      <td>n/a, n/a, n/a</td>\n",
              "      <td>32.0</td>\n",
              "    </tr>\n",
              "  </tbody>\n",
              "</table>\n",
              "</div>"
            ],
            "text/plain": [
              "    User-ID        ISBN  Book-Rating   \n",
              "3    276744  038550120X            7  \\\n",
              "4     11676  038550120X           10   \n",
              "7     11676  0684867621            3   \n",
              "13    11676  0440498058            8   \n",
              "25    11676  002542730X            6   \n",
              "\n",
              "                                           Book-Title        Book-Author   \n",
              "3                                     A Painted House       JOHN GRISHAM  \\\n",
              "4                                     A Painted House       JOHN GRISHAM   \n",
              "7             The Girl Who Loved Tom Gordon : A Novel       Stephen King   \n",
              "13                                  A Wrinkle In Time  MADELEINE L'ENGLE   \n",
              "25  Politically Correct Bedtime Stories: Modern Ta...  James Finn Garner   \n",
              "\n",
              "    Year-Of-Publication                  Publisher   \n",
              "3                  2001                  Doubleday  \\\n",
              "4                  2001                  Doubleday   \n",
              "7                  1999                   Scribner   \n",
              "13                 1998                   Yearling   \n",
              "25                 1994  John Wiley &amp; Sons Inc   \n",
              "\n",
              "                                          Image-URL-S   \n",
              "3   http://images.amazon.com/images/P/038550120X.0...  \\\n",
              "4   http://images.amazon.com/images/P/038550120X.0...   \n",
              "7   http://images.amazon.com/images/P/0684867621.0...   \n",
              "13  http://images.amazon.com/images/P/0440498058.0...   \n",
              "25  http://images.amazon.com/images/P/002542730X.0...   \n",
              "\n",
              "                                          Image-URL-M   \n",
              "3   http://images.amazon.com/images/P/038550120X.0...  \\\n",
              "4   http://images.amazon.com/images/P/038550120X.0...   \n",
              "7   http://images.amazon.com/images/P/0684867621.0...   \n",
              "13  http://images.amazon.com/images/P/0440498058.0...   \n",
              "25  http://images.amazon.com/images/P/002542730X.0...   \n",
              "\n",
              "                                          Image-URL-L   \n",
              "3   http://images.amazon.com/images/P/038550120X.0...  \\\n",
              "4   http://images.amazon.com/images/P/038550120X.0...   \n",
              "7   http://images.amazon.com/images/P/0684867621.0...   \n",
              "13  http://images.amazon.com/images/P/0440498058.0...   \n",
              "25  http://images.amazon.com/images/P/002542730X.0...   \n",
              "\n",
              "                     Location   Age  \n",
              "3   torrance, california, usa  32.0  \n",
              "4               n/a, n/a, n/a  32.0  \n",
              "7               n/a, n/a, n/a  32.0  \n",
              "13              n/a, n/a, n/a  32.0  \n",
              "25              n/a, n/a, n/a  32.0  "
            ]
          },
          "execution_count": 99,
          "metadata": {},
          "output_type": "execute_result"
        }
      ],
      "source": [
        "final_ratings.head()"
      ]
    },
    {
      "cell_type": "markdown",
      "metadata": {
        "id": "pQrRdwBXOWBK"
      },
      "source": [
        "### UTILITY MATRIX"
      ]
    },
    {
      "cell_type": "code",
      "execution_count": 100,
      "metadata": {
        "id": "VVu55znCFJLN"
      },
      "outputs": [],
      "source": [
        "ut=final_ratings.pivot_table(index=\"User-ID\",columns=\"Book-Title\",values=\"Book-Rating\")"
      ]
    },
    {
      "cell_type": "code",
      "execution_count": 101,
      "metadata": {
        "colab": {
          "base_uri": "https://localhost:8080/",
          "height": 460
        },
        "id": "SWeADEW-FMw2",
        "outputId": "c86d672c-0d5a-4027-cf74-0087cf0638ad"
      },
      "outputs": [
        {
          "data": {
            "text/html": [
              "<div>\n",
              "<style scoped>\n",
              "    .dataframe tbody tr th:only-of-type {\n",
              "        vertical-align: middle;\n",
              "    }\n",
              "\n",
              "    .dataframe tbody tr th {\n",
              "        vertical-align: top;\n",
              "    }\n",
              "\n",
              "    .dataframe thead th {\n",
              "        text-align: right;\n",
              "    }\n",
              "</style>\n",
              "<table border=\"1\" class=\"dataframe\">\n",
              "  <thead>\n",
              "    <tr style=\"text-align: right;\">\n",
              "      <th>Book-Title</th>\n",
              "      <th>1984</th>\n",
              "      <th>1st to Die: A Novel</th>\n",
              "      <th>2nd Chance</th>\n",
              "      <th>4 Blondes</th>\n",
              "      <th>84 Charing Cross Road</th>\n",
              "      <th>A Bend in the Road</th>\n",
              "      <th>A Case of Need</th>\n",
              "      <th>A Child Called \\It\\\": One Child's Courage to Survive\"</th>\n",
              "      <th>A Confederacy of Dunces (Evergreen Book)</th>\n",
              "      <th>A Darkness More Than Night</th>\n",
              "      <th>...</th>\n",
              "      <th>Wifey</th>\n",
              "      <th>Wild Animus</th>\n",
              "      <th>Winter Solstice</th>\n",
              "      <th>Wish You Well</th>\n",
              "      <th>Without Remorse</th>\n",
              "      <th>Wizard and Glass (The Dark Tower, Book 4)</th>\n",
              "      <th>Wuthering Heights</th>\n",
              "      <th>Year of Wonders</th>\n",
              "      <th>Zen and the Art of Motorcycle Maintenance: An Inquiry into Values</th>\n",
              "      <th>\\O\\\" Is for Outlaw\"</th>\n",
              "    </tr>\n",
              "    <tr>\n",
              "      <th>User-ID</th>\n",
              "      <th></th>\n",
              "      <th></th>\n",
              "      <th></th>\n",
              "      <th></th>\n",
              "      <th></th>\n",
              "      <th></th>\n",
              "      <th></th>\n",
              "      <th></th>\n",
              "      <th></th>\n",
              "      <th></th>\n",
              "      <th></th>\n",
              "      <th></th>\n",
              "      <th></th>\n",
              "      <th></th>\n",
              "      <th></th>\n",
              "      <th></th>\n",
              "      <th></th>\n",
              "      <th></th>\n",
              "      <th></th>\n",
              "      <th></th>\n",
              "      <th></th>\n",
              "    </tr>\n",
              "  </thead>\n",
              "  <tbody>\n",
              "    <tr>\n",
              "      <th>9</th>\n",
              "      <td>0.0</td>\n",
              "      <td>0.0</td>\n",
              "      <td>0.0</td>\n",
              "      <td>0.0</td>\n",
              "      <td>0.0</td>\n",
              "      <td>0.0</td>\n",
              "      <td>0.0</td>\n",
              "      <td>0.0</td>\n",
              "      <td>0.0</td>\n",
              "      <td>0.0</td>\n",
              "      <td>...</td>\n",
              "      <td>0.0</td>\n",
              "      <td>0.0</td>\n",
              "      <td>0.0</td>\n",
              "      <td>0.0</td>\n",
              "      <td>0.0</td>\n",
              "      <td>0.0</td>\n",
              "      <td>0.0</td>\n",
              "      <td>0.0</td>\n",
              "      <td>0.0</td>\n",
              "      <td>0.0</td>\n",
              "    </tr>\n",
              "    <tr>\n",
              "      <th>16</th>\n",
              "      <td>0.0</td>\n",
              "      <td>0.0</td>\n",
              "      <td>0.0</td>\n",
              "      <td>0.0</td>\n",
              "      <td>0.0</td>\n",
              "      <td>0.0</td>\n",
              "      <td>0.0</td>\n",
              "      <td>0.0</td>\n",
              "      <td>0.0</td>\n",
              "      <td>0.0</td>\n",
              "      <td>...</td>\n",
              "      <td>0.0</td>\n",
              "      <td>0.0</td>\n",
              "      <td>0.0</td>\n",
              "      <td>0.0</td>\n",
              "      <td>0.0</td>\n",
              "      <td>0.0</td>\n",
              "      <td>0.0</td>\n",
              "      <td>0.0</td>\n",
              "      <td>0.0</td>\n",
              "      <td>0.0</td>\n",
              "    </tr>\n",
              "    <tr>\n",
              "      <th>26</th>\n",
              "      <td>0.0</td>\n",
              "      <td>0.0</td>\n",
              "      <td>0.0</td>\n",
              "      <td>0.0</td>\n",
              "      <td>0.0</td>\n",
              "      <td>0.0</td>\n",
              "      <td>0.0</td>\n",
              "      <td>0.0</td>\n",
              "      <td>0.0</td>\n",
              "      <td>0.0</td>\n",
              "      <td>...</td>\n",
              "      <td>0.0</td>\n",
              "      <td>0.0</td>\n",
              "      <td>0.0</td>\n",
              "      <td>0.0</td>\n",
              "      <td>0.0</td>\n",
              "      <td>0.0</td>\n",
              "      <td>0.0</td>\n",
              "      <td>0.0</td>\n",
              "      <td>0.0</td>\n",
              "      <td>0.0</td>\n",
              "    </tr>\n",
              "    <tr>\n",
              "      <th>32</th>\n",
              "      <td>0.0</td>\n",
              "      <td>0.0</td>\n",
              "      <td>0.0</td>\n",
              "      <td>0.0</td>\n",
              "      <td>0.0</td>\n",
              "      <td>0.0</td>\n",
              "      <td>0.0</td>\n",
              "      <td>0.0</td>\n",
              "      <td>0.0</td>\n",
              "      <td>0.0</td>\n",
              "      <td>...</td>\n",
              "      <td>0.0</td>\n",
              "      <td>0.0</td>\n",
              "      <td>0.0</td>\n",
              "      <td>0.0</td>\n",
              "      <td>0.0</td>\n",
              "      <td>0.0</td>\n",
              "      <td>0.0</td>\n",
              "      <td>0.0</td>\n",
              "      <td>0.0</td>\n",
              "      <td>0.0</td>\n",
              "    </tr>\n",
              "    <tr>\n",
              "      <th>42</th>\n",
              "      <td>0.0</td>\n",
              "      <td>0.0</td>\n",
              "      <td>0.0</td>\n",
              "      <td>0.0</td>\n",
              "      <td>0.0</td>\n",
              "      <td>0.0</td>\n",
              "      <td>0.0</td>\n",
              "      <td>0.0</td>\n",
              "      <td>0.0</td>\n",
              "      <td>0.0</td>\n",
              "      <td>...</td>\n",
              "      <td>0.0</td>\n",
              "      <td>0.0</td>\n",
              "      <td>0.0</td>\n",
              "      <td>0.0</td>\n",
              "      <td>0.0</td>\n",
              "      <td>0.0</td>\n",
              "      <td>0.0</td>\n",
              "      <td>0.0</td>\n",
              "      <td>0.0</td>\n",
              "      <td>0.0</td>\n",
              "    </tr>\n",
              "  </tbody>\n",
              "</table>\n",
              "<p>5 rows × 626 columns</p>\n",
              "</div>"
            ],
            "text/plain": [
              "Book-Title  1984  1st to Die: A Novel  2nd Chance  4 Blondes   \n",
              "User-ID                                                        \n",
              "9            0.0                  0.0         0.0        0.0  \\\n",
              "16           0.0                  0.0         0.0        0.0   \n",
              "26           0.0                  0.0         0.0        0.0   \n",
              "32           0.0                  0.0         0.0        0.0   \n",
              "42           0.0                  0.0         0.0        0.0   \n",
              "\n",
              "Book-Title  84 Charing Cross Road  A Bend in the Road  A Case of Need   \n",
              "User-ID                                                                 \n",
              "9                             0.0                 0.0             0.0  \\\n",
              "16                            0.0                 0.0             0.0   \n",
              "26                            0.0                 0.0             0.0   \n",
              "32                            0.0                 0.0             0.0   \n",
              "42                            0.0                 0.0             0.0   \n",
              "\n",
              "Book-Title  A Child Called \\It\\\": One Child's Courage to Survive\"   \n",
              "User-ID                                                             \n",
              "9                                                         0.0      \\\n",
              "16                                                        0.0       \n",
              "26                                                        0.0       \n",
              "32                                                        0.0       \n",
              "42                                                        0.0       \n",
              "\n",
              "Book-Title  A Confederacy of Dunces (Evergreen Book)   \n",
              "User-ID                                                \n",
              "9                                                0.0  \\\n",
              "16                                               0.0   \n",
              "26                                               0.0   \n",
              "32                                               0.0   \n",
              "42                                               0.0   \n",
              "\n",
              "Book-Title  A Darkness More Than Night  ...  Wifey  Wild Animus   \n",
              "User-ID                                 ...                       \n",
              "9                                  0.0  ...    0.0          0.0  \\\n",
              "16                                 0.0  ...    0.0          0.0   \n",
              "26                                 0.0  ...    0.0          0.0   \n",
              "32                                 0.0  ...    0.0          0.0   \n",
              "42                                 0.0  ...    0.0          0.0   \n",
              "\n",
              "Book-Title  Winter Solstice  Wish You Well  Without Remorse   \n",
              "User-ID                                                       \n",
              "9                       0.0            0.0              0.0  \\\n",
              "16                      0.0            0.0              0.0   \n",
              "26                      0.0            0.0              0.0   \n",
              "32                      0.0            0.0              0.0   \n",
              "42                      0.0            0.0              0.0   \n",
              "\n",
              "Book-Title  Wizard and Glass (The Dark Tower, Book 4)  Wuthering Heights   \n",
              "User-ID                                                                    \n",
              "9                                                 0.0                0.0  \\\n",
              "16                                                0.0                0.0   \n",
              "26                                                0.0                0.0   \n",
              "32                                                0.0                0.0   \n",
              "42                                                0.0                0.0   \n",
              "\n",
              "Book-Title  Year of Wonders   \n",
              "User-ID                       \n",
              "9                       0.0  \\\n",
              "16                      0.0   \n",
              "26                      0.0   \n",
              "32                      0.0   \n",
              "42                      0.0   \n",
              "\n",
              "Book-Title  Zen and the Art of Motorcycle Maintenance: An Inquiry into Values   \n",
              "User-ID                                                                         \n",
              "9                                                         0.0                  \\\n",
              "16                                                        0.0                   \n",
              "26                                                        0.0                   \n",
              "32                                                        0.0                   \n",
              "42                                                        0.0                   \n",
              "\n",
              "Book-Title  \\O\\\" Is for Outlaw\"  \n",
              "User-ID                          \n",
              "9                           0.0  \n",
              "16                          0.0  \n",
              "26                          0.0  \n",
              "32                          0.0  \n",
              "42                          0.0  \n",
              "\n",
              "[5 rows x 626 columns]"
            ]
          },
          "execution_count": 101,
          "metadata": {},
          "output_type": "execute_result"
        }
      ],
      "source": [
        "ut.fillna(0,inplace=True)\n",
        "ut.head()"
      ]
    },
    {
      "cell_type": "code",
      "execution_count": 102,
      "metadata": {
        "colab": {
          "base_uri": "https://localhost:8080/"
        },
        "id": "uORQ4w9FU8jM",
        "outputId": "8fd82edc-50b5-4ccb-fff7-1be77d70539d"
      },
      "outputs": [
        {
          "data": {
            "text/plain": [
              "(24570, 626)"
            ]
          },
          "execution_count": 102,
          "metadata": {},
          "output_type": "execute_result"
        }
      ],
      "source": [
        "ut.shape"
      ]
    },
    {
      "cell_type": "markdown",
      "metadata": {
        "id": "0jU-N_c6OODF"
      },
      "source": [
        "obseravtions:\n",
        "- books = 626 popular books\n",
        "- users compared = 24570"
      ]
    },
    {
      "cell_type": "markdown",
      "metadata": {
        "id": "Fg6p9q0OgVqa"
      },
      "source": [
        "# Collaborative Filtering\n",
        "\n"
      ]
    },
    {
      "cell_type": "markdown",
      "metadata": {
        "id": "wGu-I3_djxFg"
      },
      "source": [
        "### User-based: measure the similarity between target users and other users"
      ]
    },
    {
      "cell_type": "code",
      "execution_count": 67,
      "metadata": {
        "id": "5i4nF3O3hRHT"
      },
      "outputs": [],
      "source": [
        "user_sim = 1 - pairwise_distances( ut.values,metric='cosine')"
      ]
    },
    {
      "cell_type": "code",
      "execution_count": 68,
      "metadata": {
        "id": "zCXJ-VAlhryS"
      },
      "outputs": [],
      "source": [
        "#Store the results in a dataframe\n",
        "user_sim_df = pd.DataFrame(user_sim)\n"
      ]
    },
    {
      "cell_type": "code",
      "execution_count": 69,
      "metadata": {
        "colab": {
          "base_uri": "https://localhost:8080/"
        },
        "id": "fZwn7klhhyd5",
        "outputId": "94ca41ae-5eb7-4776-8801-be57598c639c"
      },
      "outputs": [
        {
          "data": {
            "text/plain": [
              "(2019, 2019)"
            ]
          },
          "execution_count": 69,
          "metadata": {},
          "output_type": "execute_result"
        }
      ],
      "source": [
        "user_sim_df.shape"
      ]
    },
    {
      "cell_type": "code",
      "execution_count": 70,
      "metadata": {
        "id": "d6y_1M3OhyYQ"
      },
      "outputs": [],
      "source": [
        "#Set the index and column names to user ids\n",
        "user_sim_df.index = ut.index\n",
        "user_sim_df.columns = ut.index"
      ]
    },
    {
      "cell_type": "code",
      "execution_count": 71,
      "metadata": {
        "colab": {
          "base_uri": "https://localhost:8080/",
          "height": 509
        },
        "id": "CD-4zR72iMX6",
        "outputId": "577793a9-8aeb-4551-d082-06bfb2d4fcd2"
      },
      "outputs": [
        {
          "data": {
            "text/html": [
              "<div>\n",
              "<style scoped>\n",
              "    .dataframe tbody tr th:only-of-type {\n",
              "        vertical-align: middle;\n",
              "    }\n",
              "\n",
              "    .dataframe tbody tr th {\n",
              "        vertical-align: top;\n",
              "    }\n",
              "\n",
              "    .dataframe thead th {\n",
              "        text-align: right;\n",
              "    }\n",
              "</style>\n",
              "<table border=\"1\" class=\"dataframe\">\n",
              "  <thead>\n",
              "    <tr style=\"text-align: right;\">\n",
              "      <th>User-ID</th>\n",
              "      <th>254</th>\n",
              "      <th>507</th>\n",
              "      <th>638</th>\n",
              "      <th>709</th>\n",
              "      <th>882</th>\n",
              "      <th>899</th>\n",
              "      <th>1075</th>\n",
              "      <th>1211</th>\n",
              "      <th>1435</th>\n",
              "      <th>1486</th>\n",
              "      <th>...</th>\n",
              "      <th>276925</th>\n",
              "      <th>277042</th>\n",
              "      <th>277427</th>\n",
              "      <th>277439</th>\n",
              "      <th>277752</th>\n",
              "      <th>277803</th>\n",
              "      <th>277958</th>\n",
              "      <th>278176</th>\n",
              "      <th>278541</th>\n",
              "      <th>278633</th>\n",
              "    </tr>\n",
              "    <tr>\n",
              "      <th>User-ID</th>\n",
              "      <th></th>\n",
              "      <th></th>\n",
              "      <th></th>\n",
              "      <th></th>\n",
              "      <th></th>\n",
              "      <th></th>\n",
              "      <th></th>\n",
              "      <th></th>\n",
              "      <th></th>\n",
              "      <th></th>\n",
              "      <th></th>\n",
              "      <th></th>\n",
              "      <th></th>\n",
              "      <th></th>\n",
              "      <th></th>\n",
              "      <th></th>\n",
              "      <th></th>\n",
              "      <th></th>\n",
              "      <th></th>\n",
              "      <th></th>\n",
              "      <th></th>\n",
              "    </tr>\n",
              "  </thead>\n",
              "  <tbody>\n",
              "    <tr>\n",
              "      <th>254</th>\n",
              "      <td>1.0</td>\n",
              "      <td>1.0</td>\n",
              "      <td>0.000000</td>\n",
              "      <td>0.000000</td>\n",
              "      <td>0.000000</td>\n",
              "      <td>0.0</td>\n",
              "      <td>0.710669</td>\n",
              "      <td>0.000000</td>\n",
              "      <td>0.0</td>\n",
              "      <td>0.0</td>\n",
              "      <td>...</td>\n",
              "      <td>0.000000</td>\n",
              "      <td>0.0</td>\n",
              "      <td>0.000000</td>\n",
              "      <td>0.000000</td>\n",
              "      <td>0.000000</td>\n",
              "      <td>1.0</td>\n",
              "      <td>1.0</td>\n",
              "      <td>0.0</td>\n",
              "      <td>1.0</td>\n",
              "      <td>0.000000</td>\n",
              "    </tr>\n",
              "    <tr>\n",
              "      <th>507</th>\n",
              "      <td>1.0</td>\n",
              "      <td>1.0</td>\n",
              "      <td>0.000000</td>\n",
              "      <td>0.000000</td>\n",
              "      <td>0.000000</td>\n",
              "      <td>0.0</td>\n",
              "      <td>0.710669</td>\n",
              "      <td>0.000000</td>\n",
              "      <td>0.0</td>\n",
              "      <td>0.0</td>\n",
              "      <td>...</td>\n",
              "      <td>0.000000</td>\n",
              "      <td>0.0</td>\n",
              "      <td>0.000000</td>\n",
              "      <td>0.000000</td>\n",
              "      <td>0.000000</td>\n",
              "      <td>1.0</td>\n",
              "      <td>1.0</td>\n",
              "      <td>0.0</td>\n",
              "      <td>1.0</td>\n",
              "      <td>0.000000</td>\n",
              "    </tr>\n",
              "    <tr>\n",
              "      <th>638</th>\n",
              "      <td>0.0</td>\n",
              "      <td>0.0</td>\n",
              "      <td>1.000000</td>\n",
              "      <td>0.707107</td>\n",
              "      <td>0.707107</td>\n",
              "      <td>0.0</td>\n",
              "      <td>0.703526</td>\n",
              "      <td>0.707107</td>\n",
              "      <td>0.0</td>\n",
              "      <td>0.0</td>\n",
              "      <td>...</td>\n",
              "      <td>0.707107</td>\n",
              "      <td>0.0</td>\n",
              "      <td>0.707107</td>\n",
              "      <td>0.707107</td>\n",
              "      <td>0.707107</td>\n",
              "      <td>0.0</td>\n",
              "      <td>0.0</td>\n",
              "      <td>0.0</td>\n",
              "      <td>0.0</td>\n",
              "      <td>0.707107</td>\n",
              "    </tr>\n",
              "    <tr>\n",
              "      <th>709</th>\n",
              "      <td>0.0</td>\n",
              "      <td>0.0</td>\n",
              "      <td>0.707107</td>\n",
              "      <td>1.000000</td>\n",
              "      <td>0.000000</td>\n",
              "      <td>0.0</td>\n",
              "      <td>0.497468</td>\n",
              "      <td>0.000000</td>\n",
              "      <td>0.0</td>\n",
              "      <td>0.0</td>\n",
              "      <td>...</td>\n",
              "      <td>0.000000</td>\n",
              "      <td>0.0</td>\n",
              "      <td>0.000000</td>\n",
              "      <td>1.000000</td>\n",
              "      <td>1.000000</td>\n",
              "      <td>0.0</td>\n",
              "      <td>0.0</td>\n",
              "      <td>0.0</td>\n",
              "      <td>0.0</td>\n",
              "      <td>1.000000</td>\n",
              "    </tr>\n",
              "    <tr>\n",
              "      <th>882</th>\n",
              "      <td>0.0</td>\n",
              "      <td>0.0</td>\n",
              "      <td>0.707107</td>\n",
              "      <td>0.000000</td>\n",
              "      <td>1.000000</td>\n",
              "      <td>0.0</td>\n",
              "      <td>0.497468</td>\n",
              "      <td>1.000000</td>\n",
              "      <td>0.0</td>\n",
              "      <td>0.0</td>\n",
              "      <td>...</td>\n",
              "      <td>1.000000</td>\n",
              "      <td>0.0</td>\n",
              "      <td>1.000000</td>\n",
              "      <td>0.000000</td>\n",
              "      <td>0.000000</td>\n",
              "      <td>0.0</td>\n",
              "      <td>0.0</td>\n",
              "      <td>0.0</td>\n",
              "      <td>0.0</td>\n",
              "      <td>0.000000</td>\n",
              "    </tr>\n",
              "    <tr>\n",
              "      <th>...</th>\n",
              "      <td>...</td>\n",
              "      <td>...</td>\n",
              "      <td>...</td>\n",
              "      <td>...</td>\n",
              "      <td>...</td>\n",
              "      <td>...</td>\n",
              "      <td>...</td>\n",
              "      <td>...</td>\n",
              "      <td>...</td>\n",
              "      <td>...</td>\n",
              "      <td>...</td>\n",
              "      <td>...</td>\n",
              "      <td>...</td>\n",
              "      <td>...</td>\n",
              "      <td>...</td>\n",
              "      <td>...</td>\n",
              "      <td>...</td>\n",
              "      <td>...</td>\n",
              "      <td>...</td>\n",
              "      <td>...</td>\n",
              "      <td>...</td>\n",
              "    </tr>\n",
              "    <tr>\n",
              "      <th>277803</th>\n",
              "      <td>1.0</td>\n",
              "      <td>1.0</td>\n",
              "      <td>0.000000</td>\n",
              "      <td>0.000000</td>\n",
              "      <td>0.000000</td>\n",
              "      <td>0.0</td>\n",
              "      <td>0.710669</td>\n",
              "      <td>0.000000</td>\n",
              "      <td>0.0</td>\n",
              "      <td>0.0</td>\n",
              "      <td>...</td>\n",
              "      <td>0.000000</td>\n",
              "      <td>0.0</td>\n",
              "      <td>0.000000</td>\n",
              "      <td>0.000000</td>\n",
              "      <td>0.000000</td>\n",
              "      <td>1.0</td>\n",
              "      <td>1.0</td>\n",
              "      <td>0.0</td>\n",
              "      <td>1.0</td>\n",
              "      <td>0.000000</td>\n",
              "    </tr>\n",
              "    <tr>\n",
              "      <th>277958</th>\n",
              "      <td>1.0</td>\n",
              "      <td>1.0</td>\n",
              "      <td>0.000000</td>\n",
              "      <td>0.000000</td>\n",
              "      <td>0.000000</td>\n",
              "      <td>0.0</td>\n",
              "      <td>0.710669</td>\n",
              "      <td>0.000000</td>\n",
              "      <td>0.0</td>\n",
              "      <td>0.0</td>\n",
              "      <td>...</td>\n",
              "      <td>0.000000</td>\n",
              "      <td>0.0</td>\n",
              "      <td>0.000000</td>\n",
              "      <td>0.000000</td>\n",
              "      <td>0.000000</td>\n",
              "      <td>1.0</td>\n",
              "      <td>1.0</td>\n",
              "      <td>0.0</td>\n",
              "      <td>1.0</td>\n",
              "      <td>0.000000</td>\n",
              "    </tr>\n",
              "    <tr>\n",
              "      <th>278176</th>\n",
              "      <td>0.0</td>\n",
              "      <td>0.0</td>\n",
              "      <td>0.000000</td>\n",
              "      <td>0.000000</td>\n",
              "      <td>0.000000</td>\n",
              "      <td>1.0</td>\n",
              "      <td>0.000000</td>\n",
              "      <td>0.000000</td>\n",
              "      <td>1.0</td>\n",
              "      <td>1.0</td>\n",
              "      <td>...</td>\n",
              "      <td>0.000000</td>\n",
              "      <td>1.0</td>\n",
              "      <td>0.000000</td>\n",
              "      <td>0.000000</td>\n",
              "      <td>0.000000</td>\n",
              "      <td>0.0</td>\n",
              "      <td>0.0</td>\n",
              "      <td>1.0</td>\n",
              "      <td>0.0</td>\n",
              "      <td>0.000000</td>\n",
              "    </tr>\n",
              "    <tr>\n",
              "      <th>278541</th>\n",
              "      <td>1.0</td>\n",
              "      <td>1.0</td>\n",
              "      <td>0.000000</td>\n",
              "      <td>0.000000</td>\n",
              "      <td>0.000000</td>\n",
              "      <td>0.0</td>\n",
              "      <td>0.710669</td>\n",
              "      <td>0.000000</td>\n",
              "      <td>0.0</td>\n",
              "      <td>0.0</td>\n",
              "      <td>...</td>\n",
              "      <td>0.000000</td>\n",
              "      <td>0.0</td>\n",
              "      <td>0.000000</td>\n",
              "      <td>0.000000</td>\n",
              "      <td>0.000000</td>\n",
              "      <td>1.0</td>\n",
              "      <td>1.0</td>\n",
              "      <td>0.0</td>\n",
              "      <td>1.0</td>\n",
              "      <td>0.000000</td>\n",
              "    </tr>\n",
              "    <tr>\n",
              "      <th>278633</th>\n",
              "      <td>0.0</td>\n",
              "      <td>0.0</td>\n",
              "      <td>0.707107</td>\n",
              "      <td>1.000000</td>\n",
              "      <td>0.000000</td>\n",
              "      <td>0.0</td>\n",
              "      <td>0.497468</td>\n",
              "      <td>0.000000</td>\n",
              "      <td>0.0</td>\n",
              "      <td>0.0</td>\n",
              "      <td>...</td>\n",
              "      <td>0.000000</td>\n",
              "      <td>0.0</td>\n",
              "      <td>0.000000</td>\n",
              "      <td>1.000000</td>\n",
              "      <td>1.000000</td>\n",
              "      <td>0.0</td>\n",
              "      <td>0.0</td>\n",
              "      <td>0.0</td>\n",
              "      <td>0.0</td>\n",
              "      <td>1.000000</td>\n",
              "    </tr>\n",
              "  </tbody>\n",
              "</table>\n",
              "<p>2019 rows × 2019 columns</p>\n",
              "</div>"
            ],
            "text/plain": [
              "User-ID  254     507       638       709       882     899       1075     \n",
              "User-ID                                                                   \n",
              "254         1.0     1.0  0.000000  0.000000  0.000000     0.0  0.710669  \\\n",
              "507         1.0     1.0  0.000000  0.000000  0.000000     0.0  0.710669   \n",
              "638         0.0     0.0  1.000000  0.707107  0.707107     0.0  0.703526   \n",
              "709         0.0     0.0  0.707107  1.000000  0.000000     0.0  0.497468   \n",
              "882         0.0     0.0  0.707107  0.000000  1.000000     0.0  0.497468   \n",
              "...         ...     ...       ...       ...       ...     ...       ...   \n",
              "277803      1.0     1.0  0.000000  0.000000  0.000000     0.0  0.710669   \n",
              "277958      1.0     1.0  0.000000  0.000000  0.000000     0.0  0.710669   \n",
              "278176      0.0     0.0  0.000000  0.000000  0.000000     1.0  0.000000   \n",
              "278541      1.0     1.0  0.000000  0.000000  0.000000     0.0  0.710669   \n",
              "278633      0.0     0.0  0.707107  1.000000  0.000000     0.0  0.497468   \n",
              "\n",
              "User-ID    1211    1435    1486    ...    276925  277042    277427    277439   \n",
              "User-ID                            ...                                         \n",
              "254      0.000000     0.0     0.0  ...  0.000000     0.0  0.000000  0.000000  \\\n",
              "507      0.000000     0.0     0.0  ...  0.000000     0.0  0.000000  0.000000   \n",
              "638      0.707107     0.0     0.0  ...  0.707107     0.0  0.707107  0.707107   \n",
              "709      0.000000     0.0     0.0  ...  0.000000     0.0  0.000000  1.000000   \n",
              "882      1.000000     0.0     0.0  ...  1.000000     0.0  1.000000  0.000000   \n",
              "...           ...     ...     ...  ...       ...     ...       ...       ...   \n",
              "277803   0.000000     0.0     0.0  ...  0.000000     0.0  0.000000  0.000000   \n",
              "277958   0.000000     0.0     0.0  ...  0.000000     0.0  0.000000  0.000000   \n",
              "278176   0.000000     1.0     1.0  ...  0.000000     1.0  0.000000  0.000000   \n",
              "278541   0.000000     0.0     0.0  ...  0.000000     0.0  0.000000  0.000000   \n",
              "278633   0.000000     0.0     0.0  ...  0.000000     0.0  0.000000  1.000000   \n",
              "\n",
              "User-ID    277752  277803  277958  278176  278541    278633  \n",
              "User-ID                                                      \n",
              "254      0.000000     1.0     1.0     0.0     1.0  0.000000  \n",
              "507      0.000000     1.0     1.0     0.0     1.0  0.000000  \n",
              "638      0.707107     0.0     0.0     0.0     0.0  0.707107  \n",
              "709      1.000000     0.0     0.0     0.0     0.0  1.000000  \n",
              "882      0.000000     0.0     0.0     0.0     0.0  0.000000  \n",
              "...           ...     ...     ...     ...     ...       ...  \n",
              "277803   0.000000     1.0     1.0     0.0     1.0  0.000000  \n",
              "277958   0.000000     1.0     1.0     0.0     1.0  0.000000  \n",
              "278176   0.000000     0.0     0.0     1.0     0.0  0.000000  \n",
              "278541   0.000000     1.0     1.0     0.0     1.0  0.000000  \n",
              "278633   1.000000     0.0     0.0     0.0     0.0  1.000000  \n",
              "\n",
              "[2019 rows x 2019 columns]"
            ]
          },
          "execution_count": 71,
          "metadata": {},
          "output_type": "execute_result"
        }
      ],
      "source": [
        "user_sim_df"
      ]
    },
    {
      "cell_type": "code",
      "execution_count": 72,
      "metadata": {
        "colab": {
          "base_uri": "https://localhost:8080/"
        },
        "id": "_XiSOrOAiQZB",
        "outputId": "86a1c079-3468-4c61-c851-10caca8a1cf9"
      },
      "outputs": [
        {
          "data": {
            "text/plain": [
              "User-ID\n",
              "254       1.0\n",
              "507       1.0\n",
              "638       0.0\n",
              "709       0.0\n",
              "882       0.0\n",
              "         ... \n",
              "277803    1.0\n",
              "277958    1.0\n",
              "278176    0.0\n",
              "278541    1.0\n",
              "278633    0.0\n",
              "Name: 254, Length: 2019, dtype: float64"
            ]
          },
          "execution_count": 72,
          "metadata": {},
          "output_type": "execute_result"
        }
      ],
      "source": [
        "user_sim_df[254]"
      ]
    },
    {
      "cell_type": "code",
      "execution_count": 73,
      "metadata": {
        "colab": {
          "base_uri": "https://localhost:8080/",
          "height": 237
        },
        "id": "qPSctXRei75L",
        "outputId": "c6bcbd5f-8c43-4af9-ce60-10a07c289e1b"
      },
      "outputs": [
        {
          "data": {
            "text/html": [
              "<div>\n",
              "<style scoped>\n",
              "    .dataframe tbody tr th:only-of-type {\n",
              "        vertical-align: middle;\n",
              "    }\n",
              "\n",
              "    .dataframe tbody tr th {\n",
              "        vertical-align: top;\n",
              "    }\n",
              "\n",
              "    .dataframe thead th {\n",
              "        text-align: right;\n",
              "    }\n",
              "</style>\n",
              "<table border=\"1\" class=\"dataframe\">\n",
              "  <thead>\n",
              "    <tr style=\"text-align: right;\">\n",
              "      <th>User-ID</th>\n",
              "      <th>254</th>\n",
              "      <th>507</th>\n",
              "      <th>638</th>\n",
              "      <th>709</th>\n",
              "      <th>882</th>\n",
              "    </tr>\n",
              "    <tr>\n",
              "      <th>User-ID</th>\n",
              "      <th></th>\n",
              "      <th></th>\n",
              "      <th></th>\n",
              "      <th></th>\n",
              "      <th></th>\n",
              "    </tr>\n",
              "  </thead>\n",
              "  <tbody>\n",
              "    <tr>\n",
              "      <th>254</th>\n",
              "      <td>0.0</td>\n",
              "      <td>1.0</td>\n",
              "      <td>0.000000</td>\n",
              "      <td>0.000000</td>\n",
              "      <td>0.000000</td>\n",
              "    </tr>\n",
              "    <tr>\n",
              "      <th>507</th>\n",
              "      <td>1.0</td>\n",
              "      <td>0.0</td>\n",
              "      <td>0.000000</td>\n",
              "      <td>0.000000</td>\n",
              "      <td>0.000000</td>\n",
              "    </tr>\n",
              "    <tr>\n",
              "      <th>638</th>\n",
              "      <td>0.0</td>\n",
              "      <td>0.0</td>\n",
              "      <td>0.000000</td>\n",
              "      <td>0.707107</td>\n",
              "      <td>0.707107</td>\n",
              "    </tr>\n",
              "    <tr>\n",
              "      <th>709</th>\n",
              "      <td>0.0</td>\n",
              "      <td>0.0</td>\n",
              "      <td>0.707107</td>\n",
              "      <td>0.000000</td>\n",
              "      <td>0.000000</td>\n",
              "    </tr>\n",
              "    <tr>\n",
              "      <th>882</th>\n",
              "      <td>0.0</td>\n",
              "      <td>0.0</td>\n",
              "      <td>0.707107</td>\n",
              "      <td>0.000000</td>\n",
              "      <td>0.000000</td>\n",
              "    </tr>\n",
              "  </tbody>\n",
              "</table>\n",
              "</div>"
            ],
            "text/plain": [
              "User-ID  254  507       638       709       882\n",
              "User-ID                                        \n",
              "254      0.0  1.0  0.000000  0.000000  0.000000\n",
              "507      1.0  0.0  0.000000  0.000000  0.000000\n",
              "638      0.0  0.0  0.000000  0.707107  0.707107\n",
              "709      0.0  0.0  0.707107  0.000000  0.000000\n",
              "882      0.0  0.0  0.707107  0.000000  0.000000"
            ]
          },
          "execution_count": 73,
          "metadata": {},
          "output_type": "execute_result"
        }
      ],
      "source": [
        "np.fill_diagonal(user_sim, 0)\n",
        "user_sim_df.iloc[0:5, 0:5]"
      ]
    },
    {
      "cell_type": "markdown",
      "metadata": {
        "id": "pUK7WFpDmECf"
      },
      "source": [
        "### FECTCHING RECOMMENDATION"
      ]
    },
    {
      "cell_type": "code",
      "execution_count": 74,
      "metadata": {
        "id": "SRCftP9nnLK8"
      },
      "outputs": [],
      "source": [
        "def rec_user(customer_id):\n",
        "    try :\n",
        "      tem = list(user_sim_df.sort_values([customer_id],ascending=False).head(100).index)\n",
        "      movie_list=[]\n",
        "      for i in tem:\n",
        "        #read by user\n",
        "          movie_list=movie_list+list(final_df[final_df['User-ID']==i]['Book-Title'])\n",
        "        #not read by user\n",
        "          nr=set(movie_list)-set(final_df[final_df['User-ID']==customer_id]['Book-Title'])\n",
        "          nr=list(nr)\n",
        "      return nr[:5]\n",
        "\n",
        "    except :\n",
        "        return \" the user is banned for voilation of rules\""
      ]
    },
    {
      "cell_type": "code",
      "execution_count": 75,
      "metadata": {
        "colab": {
          "base_uri": "https://localhost:8080/"
        },
        "id": "7bTpFA91rTDT",
        "outputId": "eb5e20df-3343-4461-bd18-cff2ecfde3d4"
      },
      "outputs": [
        {
          "data": {
            "text/plain": [
              "[\"Chicken Soup for the Grandparent's Soul: Stories to Open the Hearts and Rekindle the Spirits of Grandparents\",\n",
              " 'Under the Duvet : Shoes, Reviews, Having the Blues, Builders, Babies, Families and Other Calamities',\n",
              " 'An Unquiet Mind',\n",
              " 'The Thirteen Days of Christmas',\n",
              " 'Apple butter &amp; other plays for children (Talonplays)']"
            ]
          },
          "execution_count": 75,
          "metadata": {},
          "output_type": "execute_result"
        }
      ],
      "source": [
        "rec_user(254)"
      ]
    },
    {
      "cell_type": "code",
      "execution_count": 76,
      "metadata": {
        "colab": {
          "base_uri": "https://localhost:8080/"
        },
        "id": "DBYHn9Pkl6dm",
        "outputId": "99c01ace-ec52-42ec-a3c1-5be52f7bdf84"
      },
      "outputs": [
        {
          "data": {
            "text/plain": [
              "['An Unquiet Mind',\n",
              " 'The Glass Harmonica',\n",
              " 'Jazz (Plume Contemporary Fiction)',\n",
              " \"10 Bad Choices That Ruin Black Women's Lives\",\n",
              " \"John Train's Most Remarkable Occurrences\"]"
            ]
          },
          "execution_count": 76,
          "metadata": {},
          "output_type": "execute_result"
        }
      ],
      "source": [
        "rec_user(22625)"
      ]
    },
    {
      "cell_type": "code",
      "execution_count": 77,
      "metadata": {
        "colab": {
          "base_uri": "https://localhost:8080/",
          "height": 35
        },
        "id": "Z0h2gNqEng_K",
        "outputId": "d561a3cb-5bd6-4c31-c3ba-fae1047295b8"
      },
      "outputs": [
        {
          "data": {
            "text/plain": [
              "' the user is banned for voilation of rules'"
            ]
          },
          "execution_count": 77,
          "metadata": {},
          "output_type": "execute_result"
        }
      ],
      "source": [
        "rec_user(666)"
      ]
    },
    {
      "cell_type": "code",
      "execution_count": 78,
      "metadata": {
        "id": "Wm_Bg7FBgebj"
      },
      "outputs": [
        {
          "data": {
            "text/plain": [
              "\"def eval(user_id):\\n\\n  #list of all books\\n  list=final_df[final_df['User-ID']==user_id]['Book-Title']\\n\\n\\n  #read out of 626\\n  r=all_books[all_books.isin(list)]\\n  #so recommend similar books\\n\\n  #not read out of 626\\n  nr=all_books[~all_books.isin(list)]\\n\\n\\n #recc based on similarity if books/items\\n  rec_list=[]\\n  for i in r:\\n    a=rec(i) #reccomnedation function\\n    rec_list.append(a)\\n    # more than 5 vs less than 5]\\n  m5=[]\\n  l5=[]\\n  for i in rec_list:\\n    if final_df[final_df['Book-Title']==i]['Book-Rating'].mean() > 5 :\\n      m5.append(i)\\n    else:\\n      l5.append(i)\\n  print('-------------------------------------')\\n  print(' no of books read = ',len(r))\\n  print('-------------------------------------')\\n  print(' no of books not read = ', len(nr))\\n  print('-------------------------------------')\\n  print(' recommended books rating > 5 = ',len(m5))\\n  print('-------------------------------------')\\n  print(' rec books rating less than 5 = ', len(l5))\\n  print('-------------------------------------')\\n\\n\\n\""
            ]
          },
          "execution_count": 78,
          "metadata": {},
          "output_type": "execute_result"
        }
      ],
      "source": [
        "'''def eval(user_id):\n",
        "\n",
        "  #list of all books\n",
        "  list=final_df[final_df['User-ID']==user_id]['Book-Title']\n",
        "\n",
        "\n",
        "  #read out of 626\n",
        "  r=all_books[all_books.isin(list)]\n",
        "  #so recommend similar books\n",
        "\n",
        "  #not read out of 626\n",
        "  nr=all_books[~all_books.isin(list)]\n",
        "\n",
        "\n",
        " #recc based on similarity if books/items\n",
        "  rec_list=[]\n",
        "  for i in r:\n",
        "    a=rec(i) #reccomnedation function\n",
        "    rec_list.append(a)\n",
        "    # more than 5 vs less than 5]\n",
        "  m5=[]\n",
        "  l5=[]\n",
        "  for i in rec_list:\n",
        "    if final_df[final_df['Book-Title']==i]['Book-Rating'].mean() > 5 :\n",
        "      m5.append(i)\n",
        "    else:\n",
        "      l5.append(i)\n",
        "  print('-------------------------------------')\n",
        "  print(' no of books read = ',len(r))\n",
        "  print('-------------------------------------')\n",
        "  print(' no of books not read = ', len(nr))\n",
        "  print('-------------------------------------')\n",
        "  print(' recommended books rating > 5 = ',len(m5))\n",
        "  print('-------------------------------------')\n",
        "  print(' rec books rating less than 5 = ', len(l5))\n",
        "  print('-------------------------------------')\n",
        "\n",
        "\n",
        "'''"
      ]
    },
    {
      "cell_type": "markdown",
      "metadata": {
        "id": "omULJRJcksdv"
      },
      "source": [
        "## MODEL 2\n",
        "---\n",
        "- Item-based: measure the similarity between the items that target users rates/ interacts with and other items"
      ]
    },
    {
      "cell_type": "code",
      "execution_count": 79,
      "metadata": {
        "id": "Ji-cobeRlZeH"
      },
      "outputs": [],
      "source": [
        "i = final_df.groupby(\"Book-Title\").count()[\"Book-Rating\"]>50\n",
        "top_books = i[i].index\n",
        "final_ratings = final_df[final_df[\"Book-Title\"].isin(top_books)]"
      ]
    },
    {
      "cell_type": "code",
      "execution_count": 80,
      "metadata": {
        "id": "BKxHn9Faktmh"
      },
      "outputs": [],
      "source": [
        "pt=final_ratings.pivot_table(index=\"Book-Title\",columns=\"User-ID\",values=\"Book-Rating\")"
      ]
    },
    {
      "cell_type": "code",
      "execution_count": 81,
      "metadata": {
        "colab": {
          "base_uri": "https://localhost:8080/",
          "height": 284
        },
        "id": "dXFwNV1elJZU",
        "outputId": "9df23987-3c01-44c4-99cd-b6d63d65c2a1"
      },
      "outputs": [
        {
          "data": {
            "text/html": [
              "<div>\n",
              "<style scoped>\n",
              "    .dataframe tbody tr th:only-of-type {\n",
              "        vertical-align: middle;\n",
              "    }\n",
              "\n",
              "    .dataframe tbody tr th {\n",
              "        vertical-align: top;\n",
              "    }\n",
              "\n",
              "    .dataframe thead th {\n",
              "        text-align: right;\n",
              "    }\n",
              "</style>\n",
              "<table border=\"1\" class=\"dataframe\">\n",
              "  <thead>\n",
              "    <tr style=\"text-align: right;\">\n",
              "      <th>User-ID</th>\n",
              "      <th>9</th>\n",
              "      <th>16</th>\n",
              "      <th>26</th>\n",
              "      <th>32</th>\n",
              "      <th>42</th>\n",
              "      <th>51</th>\n",
              "      <th>91</th>\n",
              "      <th>97</th>\n",
              "      <th>99</th>\n",
              "      <th>114</th>\n",
              "      <th>...</th>\n",
              "      <th>278800</th>\n",
              "      <th>278807</th>\n",
              "      <th>278824</th>\n",
              "      <th>278828</th>\n",
              "      <th>278832</th>\n",
              "      <th>278836</th>\n",
              "      <th>278843</th>\n",
              "      <th>278844</th>\n",
              "      <th>278846</th>\n",
              "      <th>278854</th>\n",
              "    </tr>\n",
              "    <tr>\n",
              "      <th>Book-Title</th>\n",
              "      <th></th>\n",
              "      <th></th>\n",
              "      <th></th>\n",
              "      <th></th>\n",
              "      <th></th>\n",
              "      <th></th>\n",
              "      <th></th>\n",
              "      <th></th>\n",
              "      <th></th>\n",
              "      <th></th>\n",
              "      <th></th>\n",
              "      <th></th>\n",
              "      <th></th>\n",
              "      <th></th>\n",
              "      <th></th>\n",
              "      <th></th>\n",
              "      <th></th>\n",
              "      <th></th>\n",
              "      <th></th>\n",
              "      <th></th>\n",
              "      <th></th>\n",
              "    </tr>\n",
              "  </thead>\n",
              "  <tbody>\n",
              "    <tr>\n",
              "      <th>1984</th>\n",
              "      <td>0.0</td>\n",
              "      <td>0.0</td>\n",
              "      <td>0.0</td>\n",
              "      <td>0.0</td>\n",
              "      <td>0.0</td>\n",
              "      <td>0.0</td>\n",
              "      <td>0.0</td>\n",
              "      <td>0.0</td>\n",
              "      <td>0.0</td>\n",
              "      <td>0.0</td>\n",
              "      <td>...</td>\n",
              "      <td>0.0</td>\n",
              "      <td>0.0</td>\n",
              "      <td>0.0</td>\n",
              "      <td>0.0</td>\n",
              "      <td>0.0</td>\n",
              "      <td>0.0</td>\n",
              "      <td>0.0</td>\n",
              "      <td>0.0</td>\n",
              "      <td>0.0</td>\n",
              "      <td>0.0</td>\n",
              "    </tr>\n",
              "    <tr>\n",
              "      <th>1st to Die: A Novel</th>\n",
              "      <td>0.0</td>\n",
              "      <td>0.0</td>\n",
              "      <td>0.0</td>\n",
              "      <td>0.0</td>\n",
              "      <td>0.0</td>\n",
              "      <td>0.0</td>\n",
              "      <td>0.0</td>\n",
              "      <td>0.0</td>\n",
              "      <td>0.0</td>\n",
              "      <td>0.0</td>\n",
              "      <td>...</td>\n",
              "      <td>0.0</td>\n",
              "      <td>0.0</td>\n",
              "      <td>0.0</td>\n",
              "      <td>0.0</td>\n",
              "      <td>0.0</td>\n",
              "      <td>0.0</td>\n",
              "      <td>0.0</td>\n",
              "      <td>0.0</td>\n",
              "      <td>0.0</td>\n",
              "      <td>0.0</td>\n",
              "    </tr>\n",
              "    <tr>\n",
              "      <th>2nd Chance</th>\n",
              "      <td>0.0</td>\n",
              "      <td>0.0</td>\n",
              "      <td>0.0</td>\n",
              "      <td>0.0</td>\n",
              "      <td>0.0</td>\n",
              "      <td>0.0</td>\n",
              "      <td>0.0</td>\n",
              "      <td>0.0</td>\n",
              "      <td>0.0</td>\n",
              "      <td>0.0</td>\n",
              "      <td>...</td>\n",
              "      <td>0.0</td>\n",
              "      <td>0.0</td>\n",
              "      <td>0.0</td>\n",
              "      <td>0.0</td>\n",
              "      <td>0.0</td>\n",
              "      <td>0.0</td>\n",
              "      <td>0.0</td>\n",
              "      <td>0.0</td>\n",
              "      <td>0.0</td>\n",
              "      <td>0.0</td>\n",
              "    </tr>\n",
              "    <tr>\n",
              "      <th>4 Blondes</th>\n",
              "      <td>0.0</td>\n",
              "      <td>0.0</td>\n",
              "      <td>0.0</td>\n",
              "      <td>0.0</td>\n",
              "      <td>0.0</td>\n",
              "      <td>0.0</td>\n",
              "      <td>0.0</td>\n",
              "      <td>0.0</td>\n",
              "      <td>0.0</td>\n",
              "      <td>0.0</td>\n",
              "      <td>...</td>\n",
              "      <td>0.0</td>\n",
              "      <td>0.0</td>\n",
              "      <td>0.0</td>\n",
              "      <td>0.0</td>\n",
              "      <td>0.0</td>\n",
              "      <td>0.0</td>\n",
              "      <td>0.0</td>\n",
              "      <td>0.0</td>\n",
              "      <td>0.0</td>\n",
              "      <td>0.0</td>\n",
              "    </tr>\n",
              "    <tr>\n",
              "      <th>84 Charing Cross Road</th>\n",
              "      <td>0.0</td>\n",
              "      <td>0.0</td>\n",
              "      <td>0.0</td>\n",
              "      <td>0.0</td>\n",
              "      <td>0.0</td>\n",
              "      <td>0.0</td>\n",
              "      <td>0.0</td>\n",
              "      <td>0.0</td>\n",
              "      <td>0.0</td>\n",
              "      <td>0.0</td>\n",
              "      <td>...</td>\n",
              "      <td>0.0</td>\n",
              "      <td>0.0</td>\n",
              "      <td>0.0</td>\n",
              "      <td>0.0</td>\n",
              "      <td>0.0</td>\n",
              "      <td>0.0</td>\n",
              "      <td>0.0</td>\n",
              "      <td>0.0</td>\n",
              "      <td>0.0</td>\n",
              "      <td>0.0</td>\n",
              "    </tr>\n",
              "  </tbody>\n",
              "</table>\n",
              "<p>5 rows × 24570 columns</p>\n",
              "</div>"
            ],
            "text/plain": [
              "User-ID                9       16      26      32      42      51      91       \n",
              "Book-Title                                                                      \n",
              "1984                      0.0     0.0     0.0     0.0     0.0     0.0     0.0  \\\n",
              "1st to Die: A Novel       0.0     0.0     0.0     0.0     0.0     0.0     0.0   \n",
              "2nd Chance                0.0     0.0     0.0     0.0     0.0     0.0     0.0   \n",
              "4 Blondes                 0.0     0.0     0.0     0.0     0.0     0.0     0.0   \n",
              "84 Charing Cross Road     0.0     0.0     0.0     0.0     0.0     0.0     0.0   \n",
              "\n",
              "User-ID                97      99      114     ...  278800  278807  278824   \n",
              "Book-Title                                     ...                           \n",
              "1984                      0.0     0.0     0.0  ...     0.0     0.0     0.0  \\\n",
              "1st to Die: A Novel       0.0     0.0     0.0  ...     0.0     0.0     0.0   \n",
              "2nd Chance                0.0     0.0     0.0  ...     0.0     0.0     0.0   \n",
              "4 Blondes                 0.0     0.0     0.0  ...     0.0     0.0     0.0   \n",
              "84 Charing Cross Road     0.0     0.0     0.0  ...     0.0     0.0     0.0   \n",
              "\n",
              "User-ID                278828  278832  278836  278843  278844  278846  278854  \n",
              "Book-Title                                                                     \n",
              "1984                      0.0     0.0     0.0     0.0     0.0     0.0     0.0  \n",
              "1st to Die: A Novel       0.0     0.0     0.0     0.0     0.0     0.0     0.0  \n",
              "2nd Chance                0.0     0.0     0.0     0.0     0.0     0.0     0.0  \n",
              "4 Blondes                 0.0     0.0     0.0     0.0     0.0     0.0     0.0  \n",
              "84 Charing Cross Road     0.0     0.0     0.0     0.0     0.0     0.0     0.0  \n",
              "\n",
              "[5 rows x 24570 columns]"
            ]
          },
          "execution_count": 81,
          "metadata": {},
          "output_type": "execute_result"
        }
      ],
      "source": [
        "pt.fillna(0,inplace=True)\n",
        "pt.head()"
      ]
    },
    {
      "cell_type": "code",
      "execution_count": 82,
      "metadata": {
        "colab": {
          "base_uri": "https://localhost:8080/"
        },
        "id": "nZypjwhMlMAL",
        "outputId": "68f62399-bc0c-4e8f-85bc-d90ce8b91407"
      },
      "outputs": [
        {
          "data": {
            "text/plain": [
              "(626, 24570)"
            ]
          },
          "execution_count": 82,
          "metadata": {},
          "output_type": "execute_result"
        }
      ],
      "source": [
        "pt.shape"
      ]
    },
    {
      "cell_type": "markdown",
      "metadata": {
        "id": "u_fxlRrglk5r"
      },
      "source": [
        "### SIMILARITY\n",
        "- cosine\n"
      ]
    },
    {
      "cell_type": "code",
      "execution_count": 83,
      "metadata": {
        "id": "WaKg-EJVlOoy"
      },
      "outputs": [],
      "source": [
        "similarity_scores= cosine_similarity(pt)"
      ]
    },
    {
      "cell_type": "code",
      "execution_count": 84,
      "metadata": {
        "colab": {
          "base_uri": "https://localhost:8080/"
        },
        "id": "0J4U0ee2lpsj",
        "outputId": "9fdc6c7b-27cb-41c3-e603-26ca1ba0fd96"
      },
      "outputs": [
        {
          "data": {
            "text/plain": [
              "array([[1.        , 0.02293467, 0.00733891, ..., 0.02271138, 0.03868566,\n",
              "        0.01593066],\n",
              "       [0.02293467, 1.        , 0.16344491, ..., 0.01859268, 0.01372143,\n",
              "        0.05600096],\n",
              "       [0.00733891, 0.16344491, 1.        , ..., 0.01684612, 0.00947328,\n",
              "        0.03292053],\n",
              "       ...,\n",
              "       [0.02271138, 0.01859268, 0.01684612, ..., 1.        , 0.        ,\n",
              "        0.        ],\n",
              "       [0.03868566, 0.01372143, 0.00947328, ..., 0.        , 1.        ,\n",
              "        0.00848073],\n",
              "       [0.01593066, 0.05600096, 0.03292053, ..., 0.        , 0.00848073,\n",
              "        1.        ]])"
            ]
          },
          "execution_count": 84,
          "metadata": {},
          "output_type": "execute_result"
        }
      ],
      "source": [
        "similarity_scores"
      ]
    },
    {
      "cell_type": "code",
      "execution_count": 85,
      "metadata": {
        "colab": {
          "base_uri": "https://localhost:8080/"
        },
        "id": "QtlVJnGglqCG",
        "outputId": "ad3cf08e-2996-4d1e-bf32-d5cd9d8edad2"
      },
      "outputs": [
        {
          "data": {
            "text/plain": [
              "(626, 626)"
            ]
          },
          "execution_count": 85,
          "metadata": {},
          "output_type": "execute_result"
        }
      ],
      "source": [
        "similarity_scores.shape"
      ]
    },
    {
      "cell_type": "markdown",
      "metadata": {
        "id": "cXCGDlLjmBPO"
      },
      "source": [
        "### FECTCHING RECOMMENDATION"
      ]
    },
    {
      "cell_type": "code",
      "execution_count": 86,
      "metadata": {
        "id": "k10lZdDvlrgC"
      },
      "outputs": [],
      "source": [
        "def recommend(book_name):\n",
        "\n",
        "    # index fetch\n",
        "    index=np.where(pt.index==book_name)[0][0]\n",
        "\n",
        "    #similar top 10 books\n",
        "    similar_books = sorted(list(enumerate(similarity_scores[index])),key=lambda x:x[1],reverse=True)[1:11]\n",
        "\n",
        "    for i in similar_books:\n",
        "        print(pt.index[i[0]])"
      ]
    },
    {
      "cell_type": "code",
      "execution_count": 87,
      "metadata": {
        "colab": {
          "base_uri": "https://localhost:8080/"
        },
        "id": "V2K3Jxe2lvm6",
        "outputId": "f7fbdbca-9533-4464-a67e-586c87b5df3a"
      },
      "outputs": [
        {
          "name": "stdout",
          "output_type": "stream",
          "text": [
            "Harry Potter and the Chamber of Secrets (Book 2)\n",
            "Harry Potter and the Prisoner of Azkaban (Book 3)\n",
            "Harry Potter and the Goblet of Fire (Book 4)\n",
            "Harry Potter and the Order of the Phoenix (Book 5)\n",
            "The Fellowship of the Ring (The Lord of the Rings, Part 1)\n",
            "The Two Towers (The Lord of the Rings, Part 2)\n",
            "The Return of the King (The Lord of the Rings, Part 3)\n",
            "The Hobbit : The Enchanting Prelude to The Lord of the Rings\n",
            "The Mists of Avalon\n",
            "Carolina Moon\n"
          ]
        }
      ],
      "source": [
        "recommend(\"Harry Potter and the Sorcerer's Stone (Book 1)\")"
      ]
    },
    {
      "cell_type": "code",
      "execution_count": 88,
      "metadata": {
        "colab": {
          "base_uri": "https://localhost:8080/"
        },
        "id": "NzDjz9nHlygK",
        "outputId": "210fbc39-4bf4-4c0f-c3ff-c9720fe0793f"
      },
      "outputs": [
        {
          "name": "stdout",
          "output_type": "stream",
          "text": [
            "The Two Towers (The Lord of the Rings, Part 2)\n",
            "The Return of the King (The Lord of the Rings, Part 3)\n",
            "The Hobbit : The Enchanting Prelude to The Lord of the Rings\n",
            "Harry Potter and the Prisoner of Azkaban (Book 3)\n",
            "Harry Potter and the Chamber of Secrets (Book 2)\n",
            "Harry Potter and the Goblet of Fire (Book 4)\n",
            "Harry Potter and the Sorcerer's Stone (Book 1)\n",
            "Harry Potter and the Order of the Phoenix (Book 5)\n",
            "The Silmarillion\n",
            "The Tale of the Body Thief (Vampire Chronicles (Paperback))\n"
          ]
        }
      ],
      "source": [
        "recommend('The Fellowship of the Ring (The Lord of the Rings, Part 1)')"
      ]
    },
    {
      "cell_type": "markdown",
      "metadata": {},
      "source": [
        "deploy"
      ]
    },
    {
      "cell_type": "code",
      "execution_count": 89,
      "metadata": {},
      "outputs": [],
      "source": [
        "import pickle"
      ]
    },
    {
      "cell_type": "code",
      "execution_count": 90,
      "metadata": {},
      "outputs": [],
      "source": [
        "list=user_sim_df.index.tolist()"
      ]
    },
    {
      "cell_type": "code",
      "execution_count": 91,
      "metadata": {},
      "outputs": [],
      "source": [
        "final_df1=final_df.copy()\n",
        "final=final_df[final_df['User-ID'].isin(list)]"
      ]
    },
    {
      "cell_type": "code",
      "execution_count": 92,
      "metadata": {},
      "outputs": [],
      "source": [
        "df=pd.DataFrame()\n",
        "df['user']=final['User-ID']\n",
        "df['book']=final['Book-Title']\n",
        "df['ratings']=final['Book-Rating']"
      ]
    },
    {
      "cell_type": "code",
      "execution_count": 93,
      "metadata": {},
      "outputs": [
        {
          "data": {
            "text/html": [
              "<div>\n",
              "<style scoped>\n",
              "    .dataframe tbody tr th:only-of-type {\n",
              "        vertical-align: middle;\n",
              "    }\n",
              "\n",
              "    .dataframe tbody tr th {\n",
              "        vertical-align: top;\n",
              "    }\n",
              "\n",
              "    .dataframe thead th {\n",
              "        text-align: right;\n",
              "    }\n",
              "</style>\n",
              "<table border=\"1\" class=\"dataframe\">\n",
              "  <thead>\n",
              "    <tr style=\"text-align: right;\">\n",
              "      <th></th>\n",
              "      <th>user</th>\n",
              "      <th>book</th>\n",
              "      <th>ratings</th>\n",
              "    </tr>\n",
              "  </thead>\n",
              "  <tbody>\n",
              "    <tr>\n",
              "      <th>4</th>\n",
              "      <td>11676</td>\n",
              "      <td>A Painted House</td>\n",
              "      <td>10</td>\n",
              "    </tr>\n",
              "    <tr>\n",
              "      <th>5</th>\n",
              "      <td>11676</td>\n",
              "      <td>Waiting to Exhale</td>\n",
              "      <td>8</td>\n",
              "    </tr>\n",
              "    <tr>\n",
              "      <th>6</th>\n",
              "      <td>11676</td>\n",
              "      <td>Birdsong: A Novel of Love and War</td>\n",
              "      <td>8</td>\n",
              "    </tr>\n",
              "    <tr>\n",
              "      <th>7</th>\n",
              "      <td>11676</td>\n",
              "      <td>The Girl Who Loved Tom Gordon : A Novel</td>\n",
              "      <td>3</td>\n",
              "    </tr>\n",
              "    <tr>\n",
              "      <th>8</th>\n",
              "      <td>11676</td>\n",
              "      <td>Adressat unbekannt.</td>\n",
              "      <td>1</td>\n",
              "    </tr>\n",
              "    <tr>\n",
              "      <th>...</th>\n",
              "      <td>...</td>\n",
              "      <td>...</td>\n",
              "      <td>...</td>\n",
              "    </tr>\n",
              "    <tr>\n",
              "      <th>328934</th>\n",
              "      <td>8282</td>\n",
              "      <td>The Secret Life of Bees</td>\n",
              "      <td>10</td>\n",
              "    </tr>\n",
              "    <tr>\n",
              "      <th>348062</th>\n",
              "      <td>104489</td>\n",
              "      <td>Wuthering Heights</td>\n",
              "      <td>9</td>\n",
              "    </tr>\n",
              "    <tr>\n",
              "      <th>348063</th>\n",
              "      <td>104489</td>\n",
              "      <td>The Clan of the Cave Bear (Earth's Children Se...</td>\n",
              "      <td>9</td>\n",
              "    </tr>\n",
              "    <tr>\n",
              "      <th>348064</th>\n",
              "      <td>104489</td>\n",
              "      <td>The Da Vinci Code</td>\n",
              "      <td>7</td>\n",
              "    </tr>\n",
              "    <tr>\n",
              "      <th>380931</th>\n",
              "      <td>210302</td>\n",
              "      <td>The Da Vinci Code</td>\n",
              "      <td>10</td>\n",
              "    </tr>\n",
              "  </tbody>\n",
              "</table>\n",
              "<p>70587 rows × 3 columns</p>\n",
              "</div>"
            ],
            "text/plain": [
              "          user                                               book  ratings\n",
              "4        11676                                    A Painted House       10\n",
              "5        11676                                  Waiting to Exhale        8\n",
              "6        11676                  Birdsong: A Novel of Love and War        8\n",
              "7        11676            The Girl Who Loved Tom Gordon : A Novel        3\n",
              "8        11676                                Adressat unbekannt.        1\n",
              "...        ...                                                ...      ...\n",
              "328934    8282                            The Secret Life of Bees       10\n",
              "348062  104489                                  Wuthering Heights        9\n",
              "348063  104489  The Clan of the Cave Bear (Earth's Children Se...        9\n",
              "348064  104489                                  The Da Vinci Code        7\n",
              "380931  210302                                  The Da Vinci Code       10\n",
              "\n",
              "[70587 rows x 3 columns]"
            ]
          },
          "execution_count": 93,
          "metadata": {},
          "output_type": "execute_result"
        }
      ],
      "source": [
        "df"
      ]
    },
    {
      "cell_type": "code",
      "execution_count": 96,
      "metadata": {},
      "outputs": [],
      "source": [
        "'''#dataset\n",
        "pickle.dump(user_sim_df,open('sim.pkl','wb'))'''"
      ]
    },
    {
      "cell_type": "code",
      "execution_count": 95,
      "metadata": {},
      "outputs": [],
      "source": [
        "'''#dataset\n",
        "pickle.dump(df,open('user.pkl','wb'))'''"
      ]
    }
  ],
  "metadata": {
    "colab": {
      "provenance": []
    },
    "kernelspec": {
      "display_name": "Python 3",
      "name": "python3"
    },
    "language_info": {
      "codemirror_mode": {
        "name": "ipython",
        "version": 3
      },
      "file_extension": ".py",
      "mimetype": "text/x-python",
      "name": "python",
      "nbconvert_exporter": "python",
      "pygments_lexer": "ipython3",
      "version": "3.11.2"
    }
  },
  "nbformat": 4,
  "nbformat_minor": 0
}
